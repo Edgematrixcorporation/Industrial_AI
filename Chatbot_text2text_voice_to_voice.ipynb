{
  "cells": [
    {
      "cell_type": "markdown",
      "id": "6eb690b6",
      "metadata": {
        "id": "6eb690b6",
        "papermill": {
          "duration": 0.013432,
          "end_time": "2024-05-23T07:01:14.198299",
          "exception": false,
          "start_time": "2024-05-23T07:01:14.184867",
          "status": "completed"
        },
        "tags": []
      },
      "source": [
        "## **Import and load the data file**"
      ]
    },
    {
      "cell_type": "markdown",
      "id": "46d3c173",
      "metadata": {
        "papermill": {
          "duration": 0.012817,
          "end_time": "2024-05-23T07:01:14.224435",
          "exception": false,
          "start_time": "2024-05-23T07:01:14.211618",
          "status": "completed"
        },
        "tags": [],
        "id": "46d3c173"
      },
      "source": [
        "## Test the functionality with the App here: [MedBot](https://www.kaggle.com/discussions/general/497039)"
      ]
    },
    {
      "cell_type": "markdown",
      "id": "156c8b20",
      "metadata": {
        "id": "156c8b20",
        "papermill": {
          "duration": 0.013758,
          "end_time": "2024-05-23T07:01:14.251076",
          "exception": false,
          "start_time": "2024-05-23T07:01:14.237318",
          "status": "completed"
        },
        "tags": []
      },
      "source": [
        "We import the necessary packages for our chatbot and initialize the variables we will use in our Python project.\n",
        "The data file is in JSON format so we used the json package to parse the JSON file into Python."
      ]
    },
    {
      "cell_type": "code",
      "execution_count": 1,
      "id": "4addd115",
      "metadata": {
        "execution": {
          "iopub.execute_input": "2024-05-23T07:01:14.279113Z",
          "iopub.status.busy": "2024-05-23T07:01:14.278698Z",
          "iopub.status.idle": "2024-05-23T07:01:16.263524Z",
          "shell.execute_reply": "2024-05-23T07:01:16.262394Z"
        },
        "id": "4addd115",
        "outputId": "eddb701f-d476-406a-eb00-82bdba90166d",
        "papermill": {
          "duration": 2.001758,
          "end_time": "2024-05-23T07:01:16.265718",
          "exception": false,
          "start_time": "2024-05-23T07:01:14.263960",
          "status": "completed"
        },
        "tags": [],
        "colab": {
          "base_uri": "https://localhost:8080/"
        }
      },
      "outputs": [
        {
          "output_type": "stream",
          "name": "stderr",
          "text": [
            "[nltk_data] Downloading package punkt to /root/nltk_data...\n",
            "[nltk_data]   Unzipping tokenizers/punkt.zip.\n"
          ]
        },
        {
          "output_type": "execute_result",
          "data": {
            "text/plain": [
              "True"
            ]
          },
          "metadata": {},
          "execution_count": 1
        }
      ],
      "source": [
        "import nltk\n",
        "nltk.download('punkt')      #Sentence tokenizer"
      ]
    },
    {
      "cell_type": "code",
      "execution_count": 137,
      "id": "39ccaed3",
      "metadata": {
        "execution": {
          "iopub.execute_input": "2024-05-23T07:01:16.294547Z",
          "iopub.status.busy": "2024-05-23T07:01:16.293199Z",
          "iopub.status.idle": "2024-05-23T07:01:16.299392Z",
          "shell.execute_reply": "2024-05-23T07:01:16.298454Z"
        },
        "id": "39ccaed3",
        "papermill": {
          "duration": 0.022824,
          "end_time": "2024-05-23T07:01:16.301543",
          "exception": false,
          "start_time": "2024-05-23T07:01:16.278719",
          "status": "completed"
        },
        "tags": []
      },
      "outputs": [],
      "source": [
        "import nltk\n",
        "from nltk.stem import WordNetLemmatizer\n",
        "lemmatizer = WordNetLemmatizer()\n",
        "import json\n",
        "import pickle\n",
        "import warnings\n",
        "warnings.filterwarnings('ignore')"
      ]
    },
    {
      "cell_type": "code",
      "execution_count": 138,
      "id": "dc9cb0d4",
      "metadata": {
        "execution": {
          "iopub.execute_input": "2024-05-23T07:01:32.880942Z",
          "iopub.status.busy": "2024-05-23T07:01:32.880090Z",
          "iopub.status.idle": "2024-05-23T07:01:46.520009Z",
          "shell.execute_reply": "2024-05-23T07:01:46.518532Z"
        },
        "id": "dc9cb0d4",
        "outputId": "c0fb5496-cb76-4c34-dfbe-841519650146",
        "papermill": {
          "duration": 13.660752,
          "end_time": "2024-05-23T07:01:46.522406",
          "exception": false,
          "start_time": "2024-05-23T07:01:32.861654",
          "status": "completed"
        },
        "tags": [],
        "colab": {
          "base_uri": "https://localhost:8080/"
        }
      },
      "outputs": [
        {
          "output_type": "stream",
          "name": "stdout",
          "text": [
            "2.15.0\n"
          ]
        }
      ],
      "source": [
        "import tensorflow as tf\n",
        "print(tf.__version__)"
      ]
    },
    {
      "cell_type": "code",
      "execution_count": 139,
      "id": "1d33f85b",
      "metadata": {
        "execution": {
          "iopub.execute_input": "2024-05-23T07:01:46.555041Z",
          "iopub.status.busy": "2024-05-23T07:01:46.554405Z",
          "iopub.status.idle": "2024-05-23T07:01:46.577325Z",
          "shell.execute_reply": "2024-05-23T07:01:46.576282Z"
        },
        "id": "1d33f85b",
        "papermill": {
          "duration": 0.042149,
          "end_time": "2024-05-23T07:01:46.579793",
          "exception": false,
          "start_time": "2024-05-23T07:01:46.537644",
          "status": "completed"
        },
        "tags": []
      },
      "outputs": [],
      "source": [
        "import numpy as np\n",
        "import tensorflow as tf\n",
        "from keras.models import Sequential\n",
        "from keras.layers import Dense, Activation, Dropout\n",
        "from tensorflow.keras.optimizers import SGD\n",
        "import random"
      ]
    },
    {
      "cell_type": "code",
      "execution_count": 140,
      "id": "c12dab5c",
      "metadata": {
        "execution": {
          "iopub.execute_input": "2024-05-23T07:01:46.611133Z",
          "iopub.status.busy": "2024-05-23T07:01:46.610730Z",
          "iopub.status.idle": "2024-05-23T07:01:46.615819Z",
          "shell.execute_reply": "2024-05-23T07:01:46.614882Z"
        },
        "id": "c12dab5c",
        "outputId": "2fd0ae91-c898-4c72-de99-713630fac39a",
        "papermill": {
          "duration": 0.023675,
          "end_time": "2024-05-23T07:01:46.618251",
          "exception": false,
          "start_time": "2024-05-23T07:01:46.594576",
          "status": "completed"
        },
        "tags": [],
        "colab": {
          "base_uri": "https://localhost:8080/"
        }
      },
      "outputs": [
        {
          "output_type": "stream",
          "name": "stdout",
          "text": [
            "2.15.0\n"
          ]
        }
      ],
      "source": [
        "import keras\n",
        "print(keras.__version__)"
      ]
    },
    {
      "cell_type": "markdown",
      "id": "aaa0694a",
      "metadata": {
        "id": "aaa0694a",
        "papermill": {
          "duration": 0.014898,
          "end_time": "2024-05-23T07:01:46.648082",
          "exception": false,
          "start_time": "2024-05-23T07:01:46.633184",
          "status": "completed"
        },
        "tags": []
      },
      "source": [
        "# **Preprocessing**"
      ]
    },
    {
      "cell_type": "code",
      "execution_count": 141,
      "id": "bdb3bf5b",
      "metadata": {
        "execution": {
          "iopub.execute_input": "2024-05-23T07:01:46.679493Z",
          "iopub.status.busy": "2024-05-23T07:01:46.679124Z",
          "iopub.status.idle": "2024-05-23T07:01:46.689251Z",
          "shell.execute_reply": "2024-05-23T07:01:46.688211Z"
        },
        "id": "bdb3bf5b",
        "papermill": {
          "duration": 0.028797,
          "end_time": "2024-05-23T07:01:46.691664",
          "exception": false,
          "start_time": "2024-05-23T07:01:46.662867",
          "status": "completed"
        },
        "tags": []
      },
      "outputs": [],
      "source": [
        "words=[]\n",
        "classes = []\n",
        "documents = []\n",
        "ignore_words = ['?', '!']\n",
        "data_file = open(\"/content/deda.json\").read() # read json file\n",
        "intents = json.loads(data_file) # load json file"
      ]
    },
    {
      "cell_type": "markdown",
      "id": "a0268c65",
      "metadata": {
        "id": "a0268c65",
        "papermill": {
          "duration": 0.015104,
          "end_time": "2024-05-23T07:01:46.721709",
          "exception": false,
          "start_time": "2024-05-23T07:01:46.706605",
          "status": "completed"
        },
        "tags": []
      },
      "source": [
        "When working with text data, we need to perform various preprocessing on the data before we make a machine learning or a deep learning model. Based on the requirements we need to apply various operations to preprocess the\n",
        "data.\n",
        "- Tokenizing is the most basic and first thing you can do on text data.\n",
        "- Tokenizing is the process of breaking the whole text into small parts like words.\n",
        "- Here we iterate through the patterns and tokenize the sentence using nltk.word_tokenize() function and append each word in the words list. We also create a list of classes for our tags."
      ]
    },
    {
      "cell_type": "code",
      "execution_count": 142,
      "id": "429c582c",
      "metadata": {
        "execution": {
          "iopub.execute_input": "2024-05-23T07:01:46.754069Z",
          "iopub.status.busy": "2024-05-23T07:01:46.753156Z",
          "iopub.status.idle": "2024-05-23T07:01:46.779955Z",
          "shell.execute_reply": "2024-05-23T07:01:46.778662Z"
        },
        "id": "429c582c",
        "papermill": {
          "duration": 0.045843,
          "end_time": "2024-05-23T07:01:46.782508",
          "exception": false,
          "start_time": "2024-05-23T07:01:46.736665",
          "status": "completed"
        },
        "tags": []
      },
      "outputs": [],
      "source": [
        "for intent in intents['intents']:\n",
        "    for pattern in intent['patterns']:\n",
        "        #tokenize each word\n",
        "        w = nltk.word_tokenize(pattern)\n",
        "        words.extend(w)# add each elements into list\n",
        "        #combination between patterns and intents\n",
        "        documents.append((w, intent['tag']))#add single element into end of list\n",
        "        # add to tag in our classes list\n",
        "        if intent['tag'] not in classes:\n",
        "            classes.append(intent['tag'])"
      ]
    },
    {
      "cell_type": "code",
      "execution_count": 143,
      "id": "5a44396d",
      "metadata": {
        "execution": {
          "iopub.execute_input": "2024-05-23T07:01:46.814347Z",
          "iopub.status.busy": "2024-05-23T07:01:46.813970Z",
          "iopub.status.idle": "2024-05-23T07:01:46.877728Z",
          "shell.execute_reply": "2024-05-23T07:01:46.876625Z"
        },
        "id": "5a44396d",
        "outputId": "f0ac71d2-bd81-46ea-99e1-3d0886e9bcea",
        "papermill": {
          "duration": 0.082792,
          "end_time": "2024-05-23T07:01:46.880317",
          "exception": false,
          "start_time": "2024-05-23T07:01:46.797525",
          "status": "completed"
        },
        "tags": [],
        "colab": {
          "base_uri": "https://localhost:8080/"
        }
      },
      "outputs": [
        {
          "output_type": "stream",
          "name": "stderr",
          "text": [
            "[nltk_data] Downloading package wordnet to /root/nltk_data...\n",
            "[nltk_data]   Package wordnet is already up-to-date!\n"
          ]
        },
        {
          "output_type": "execute_result",
          "data": {
            "text/plain": [
              "True"
            ]
          },
          "metadata": {},
          "execution_count": 143
        }
      ],
      "source": [
        "nltk.download('wordnet') #lexical database for the English language"
      ]
    },
    {
      "cell_type": "code",
      "execution_count": 144,
      "id": "afc1b15a",
      "metadata": {
        "execution": {
          "iopub.execute_input": "2024-05-23T07:01:46.912887Z",
          "iopub.status.busy": "2024-05-23T07:01:46.912511Z",
          "iopub.status.idle": "2024-05-23T07:01:47.053460Z",
          "shell.execute_reply": "2024-05-23T07:01:47.052541Z"
        },
        "id": "afc1b15a",
        "outputId": "f62df82d-731d-4d64-f690-d88e63b7dc41",
        "papermill": {
          "duration": 0.159802,
          "end_time": "2024-05-23T07:01:47.055483",
          "exception": false,
          "start_time": "2024-05-23T07:01:46.895681",
          "status": "completed"
        },
        "tags": [],
        "colab": {
          "base_uri": "https://localhost:8080/"
        }
      },
      "outputs": [
        {
          "output_type": "stream",
          "name": "stderr",
          "text": [
            "[nltk_data] Downloading package omw-1.4 to /root/nltk_data...\n",
            "[nltk_data]   Package omw-1.4 is already up-to-date!\n"
          ]
        },
        {
          "output_type": "execute_result",
          "data": {
            "text/plain": [
              "True"
            ]
          },
          "metadata": {},
          "execution_count": 144
        }
      ],
      "source": [
        "nltk.download('omw-1.4')"
      ]
    },
    {
      "cell_type": "markdown",
      "id": "09584548",
      "metadata": {
        "id": "09584548",
        "papermill": {
          "duration": 0.015788,
          "end_time": "2024-05-23T07:01:47.086941",
          "exception": false,
          "start_time": "2024-05-23T07:01:47.071153",
          "status": "completed"
        },
        "tags": []
      },
      "source": [
        "Now we will lemmatize each word and remove duplicate words from the list.\n",
        "- Lemmatizing is the process of converting a word into its lemma form and then creating a pickle file to store the Python objects which we will use while predicting."
      ]
    },
    {
      "cell_type": "code",
      "execution_count": 145,
      "id": "3044983f",
      "metadata": {
        "execution": {
          "iopub.execute_input": "2024-05-23T07:01:47.120419Z",
          "iopub.status.busy": "2024-05-23T07:01:47.119714Z",
          "iopub.status.idle": "2024-05-23T07:01:47.943105Z",
          "shell.execute_reply": "2024-05-23T07:01:47.941316Z"
        },
        "id": "3044983f",
        "outputId": "60abed1c-bdf4-4cfa-a6a0-0a69d2986558",
        "papermill": {
          "duration": 0.84266,
          "end_time": "2024-05-23T07:01:47.945263",
          "exception": true,
          "start_time": "2024-05-23T07:01:47.102603",
          "status": "failed"
        },
        "tags": [],
        "colab": {
          "base_uri": "https://localhost:8080/"
        }
      },
      "outputs": [
        {
          "output_type": "stream",
          "name": "stdout",
          "text": [
            "294 documents\n",
            " [(['Constant', 'fatigue', 'and', 'muscle', 'weakness', ',', 'struggling', 'to', 'stay', 'awake', '.'], 'chronic_fatigue_syndrome'), (['I', \"'ve\", 'been', 'feeling', 'extremely', 'fatigued', 'and', 'find', 'it', 'hard', 'to', 'concentrate', '.'], 'chronic_fatigue_syndrome'), (['I', 'have', 'been', 'feeling', 'very', 'tired', 'lately', ',', 'even', 'with', 'a', 'full', 'night', \"'s\", 'sleep', '.'], 'chronic_fatigue_syndrome'), (['Constant', 'fatigue', 'and', 'difficulty', 'concentrating', 'for', 'weeks', '.'], 'chronic_fatigue_syndrome'), (['Extreme', 'fatigue', 'after', 'minimal', 'activity', '.'], 'chronic_fatigue_syndrome'), (['Hi'], 'greeting'), (['Hello'], 'greeting'), (['Hey'], 'greeting'), (['Greetings'], 'greeting'), (['Frequent', 'severe', 'migraines', ',', 'sensitivity', 'to', 'light', 'and', 'sound', '.'], 'migraine'), (['Experiencing', 'frequent', 'headaches', ',', 'sensitivity', 'to', 'light', 'and', 'sound', '.'], 'migraine'), (['Frequent', 'migraines', 'that', 'last', 'for', 'hours', '.'], 'migraine'), (['Recurring', 'severe', 'headaches', 'and', 'sensitivity', 'to', 'light', '.'], 'migraine'), (['I', \"'ve\", 'been', 'experiencing', 'severe', 'headaches', 'and', 'occasional', 'dizziness', '.'], 'migraine'), (['Sudden', 'weight', 'gain', 'and', 'feeling', 'cold', ',', 'especially', 'in', 'the', 'hands', 'and', 'feet', '.'], 'hypothyroidism'), (['Sudden', 'weight', 'gain', 'and', 'puffiness', 'in', 'the', 'face', '.'], 'hypothyroidism'), (['Dry', 'skin', 'and', 'hair', ',', 'feeling', 'cold', 'all', 'the', 'time', '.'], 'hypothyroidism'), (['Sudden', 'weight', 'gain', 'without', 'changes', 'in', 'diet', '.'], 'hypothyroidism'), (['High', 'fever', ',', 'sore', 'throat', ',', 'and', 'swollen', 'lymph', 'nodes', ',', 'feeling', 'very', 'weak', '.'], 'mononucleosis'), (['Excessive', 'thirst', 'and', 'frequent', 'urination', ',', 'dry', 'mouth', 'persistently', '.'], 'diabetes_mellitus'), (['Frequent', 'urination', ',', 'especially', 'at', 'night', ',', 'and', 'feeling', 'thirsty', '.'], 'diabetes_mellitus'), (['Constant', 'thirst', 'and', 'dry', 'mouth', '.'], 'diabetes_mellitus'), (['Frequent', 'urination', 'and', 'excessive', 'thirst', '.'], 'diabetes_mellitus'), (['Unintended', 'weight', 'loss', 'and', 'constant', 'thirst', '.'], 'diabetes_mellitus'), (['Sharp', ',', 'stabbing', 'chest', 'pain', 'that', 'worsens', 'when', 'lying', 'down', 'or', 'inhaling', 'deeply', '.'], 'pericarditis'), (['Unexplained', 'weight', 'loss', 'and', 'night', 'sweats', ',', 'feeling', 'feverish', '.'], 'tuberculosis'), (['Severe', 'abdominal', 'pain', 'radiating', 'to', 'the', 'back', ',', 'nausea', 'without', 'vomiting', '.'], 'pancreatitis'), (['Joint', 'swelling', 'and', 'stiffness', 'in', 'the', 'morning', ',', 'especially', 'in', 'the', 'fingers', 'and', 'wrists', '.'], 'rheumatoid_arthritis'), (['Joint', 'pain', 'in', 'hands', 'and', 'feet', ',', 'stiffness', 'in', 'the', 'morning', '.'], 'rheumatoid_arthritis'), (['Swollen', ',', 'tender', 'joints', 'in', 'hands', 'and', 'wrists', '.'], 'rheumatoid_arthritis'), (['Experiencing', 'joint', 'pain', 'in', 'hands', 'and', 'feet', '.'], 'rheumatoid_arthritis'), (['Swelling', 'and', 'pain', 'in', 'the', 'joints', ',', 'especially', 'in', 'the', 'morning', '.'], 'rheumatoid_arthritis'), (['Recurrent', ',', 'painful', 'blisters', 'around', 'the', 'mouth', 'and', 'nose', '.'], 'herpes_simplex'), (['Progressive', 'difficulty', 'swallowing', ',', 'accompanied', 'by', 'heartburn', '.'], 'esophageal_reflux'), (['Chronic', 'diarrhea', ',', 'abdominal', 'cramps', ',', 'and', 'gas', '.'], 'irritable_bowel_syndrome'), (['Recurrent', 'stomach', 'pain', ',', 'bloating', ',', 'and', 'altered', 'bowel', 'habits', '.'], 'irritable_bowel_syndrome'), (['My', 'stomach', 'has', 'been', 'upset', ',', 'with', 'bouts', 'of', 'diarrhea', 'and', 'nausea', '.'], 'irritable_bowel_syndrome'), (['Intense', 'itching', ',', 'especially', 'at', 'night', ',', 'with', 'visible', 'burrows', 'on', 'the', 'skin', '.'], 'scabies'), (['Yellowing', 'of', 'the', 'skin', 'and', 'eyes', ',', 'dark', 'urine', ',', 'and', 'general', 'fatigue', '.'], 'hepatitis'), (['Yellowing', 'of', 'the', 'skin', 'and', 'eyes', ',', 'fatigue', ',', 'and', 'abdominal', 'pain', '.'], 'hepatitis'), (['Sudden', ',', 'severe', 'headache', 'with', 'no', 'known', 'cause', ',', 'blurred', 'vision', '.'], 'subarachnoid_hemorrhage'), (['Persistent', 'cough', 'with', 'blood-tinged', 'sputum', ',', 'night', 'sweats', '.'], 'lung_cancer'), (['Frequent', 'nosebleeds', ',', 'easy', 'bruising', ',', 'and', 'prolonged', 'bleeding', 'from', 'cuts', '.'], 'hemophilia'), (['Unexplained', 'bruising', 'on', 'the', 'skin', '.'], 'hemophilia'), (['Severe', 'itching', 'and', 'rash', 'after', 'consuming', 'certain', 'foods', '.'], 'food_allergy'), (['Repeated', 'urinary', 'tract', 'infections', ',', 'burning', 'sensation', 'while', 'urinating', '.'], 'urinary_tract_infection'), (['Frequent', 'urination', 'and', 'a', 'burning', 'sensation', '.'], 'urinary_tract_infection'), (['Persistent', 'cough', 'with', 'greenish', 'phlegm', '.'], 'urinary_tract_infection'), (['Frequent', 'urination', '.'], 'urinary_tract_infection'), (['Difficulty', 'swallowing', 'food', 'and', 'liquids', '.'], 'urinary_tract_infection'), (['Difficulty', 'concentrating', ',', 'memory', 'lapses', ',', 'and', 'confusion', '.'], 'early_onset_dementia'), (['Noticed', 'a', 'persistent', 'cough', 'and', 'occasional', 'wheezing', ',', 'especially', 'at', 'night', '.'], 'asthma'), (['Sudden', 'shortness', 'of', 'breath', 'with', 'mild', 'exertion', '.'], 'asthma'), (['Persistent', 'coughing', 'and', 'difficulty', 'breathing', 'at', 'night', '.'], 'asthma'), (['Constant', 'shortness', 'of', 'breath', 'and', 'tightness', 'in', 'my', 'chest', '.'], 'asthma'), (['Shortness', 'of', 'breath', 'during', 'light', 'physical', 'activity', '.'], 'asthma'), (['Sudden', 'episodes', 'of', 'rapid', 'heartbeat', ',', 'feeling', 'faint', '.'], 'panic_attacks'), (['Sudden', 'episodes', 'of', 'rapid', 'heartbeat', '.'], 'panic_attacks'), (['Episodes', 'of', 'severe', 'anxiety', 'and', 'panic', 'attacks', '.'], 'panic_attacks'), (['Unintended', 'weight', 'loss', 'and', 'constant', 'thirst', '.'], 'type_1_diabetes'), (['Frequent', 'urination', 'and', 'excessive', 'thirst', '.'], 'type_1_diabetes'), (['Frequent', 'urination', 'and', 'excessive', 'thirst', '.'], 'type_1_diabetes'), (['Sudden', 'weight', 'loss', 'and', 'a', 'constant', 'feeling', 'of', 'hunger', '.'], 'type_1_diabetes'), (['Difficulty', 'concentrating', 'and', 'memory', 'lapses', '.'], 'type_1_diabetes'), (['Persistent', 'headaches', 'and', 'a', 'feeling', 'of', 'pressure', 'around', 'my', 'head', '.'], 'tension_headaches'), (['Recurring', 'headaches', 'that', 'start', 'in', 'the', 'back', 'of', 'my', 'head', 'and', 'move', 'forward', '.'], 'tension_headaches'), (['severe', 'itching', 'without', 'rash'], 'severe_itching_without_rash'), (['itchy', 'skin', 'without', 'rash'], 'severe_itching_without_rash'), (['itchy', 'skin'], 'severe_itching_without_rash'), (['hair', 'loss', 'in', 'patches'], 'hair_loss_in_patches'), (['bald', 'spots', 'on', 'head'], 'hair_loss_in_patches'), (['patchy', 'hair', 'loss'], 'hair_loss_in_patches'), (['brittle', 'nails', 'and', 'dry', 'skin'], 'brittle_nails_dry_skin'), (['dry', 'skin', 'and', 'nails'], 'brittle_nails_dry_skin'), (['nails', 'are', 'brittle'], 'brittle_nails_dry_skin'), (['cramps', 'and', 'muscle', 'spasms'], 'cramps_muscle_spasms'), (['muscle', 'cramps'], 'cramps_muscle_spasms'), (['muscle', 'spasms'], 'cramps_muscle_spasms'), (['mood', 'swings', 'and', 'irritability'], 'mood_swings_irritability'), (['feeling', 'moody'], 'mood_swings_irritability'), (['irritability'], 'mood_swings_irritability'), (['increased', 'sensitivity', 'to', 'cold'], 'increased_sensitivity_to_cold'), (['feeling', 'cold', 'all', 'the', 'time'], 'increased_sensitivity_to_cold'), (['sensitive', 'to', 'cold'], 'increased_sensitivity_to_cold'), (['numbness', 'in', 'hands', 'and', 'feet'], 'numbness_in_hands_feet'), (['tingling', 'in', 'hands', 'and', 'feet'], 'numbness_in_hands_feet'), (['hands', 'and', 'feet', 'numb'], 'numbness_in_hands_feet'), (['painful', 'urination'], 'painful_urination'), (['burning', 'sensation', 'during', 'urination'], 'painful_urination'), (['pain', 'when', 'urinating'], 'painful_urination'), (['excessive', 'sweating', 'at', 'night'], 'excessive_sweating_at_night'), (['night', 'sweats'], 'excessive_sweating_at_night'), (['sweating', 'while', 'sleeping'], 'excessive_sweating_at_night'), (['difficulty', 'concentrating', 'on', 'tasks'], 'difficulty_concentrating_tasks'), (['trouble', 'focusing'], 'difficulty_concentrating_tasks'), (['ca', \"n't\", 'concentrate'], 'difficulty_concentrating_tasks'), (['loss', 'of', 'balance', 'and', 'coordination'], 'loss_of_balance_coordination'), (['difficulty', 'with', 'balance'], 'loss_of_balance_coordination'), (['balance', 'issues'], 'loss_of_balance_coordination'), (['severe', 'headaches', 'lately'], 'severe_headaches_lately'), (['frequent', 'headaches'], 'severe_headaches_lately'), (['bad', 'headaches'], 'severe_headaches_lately'), (['stomach', 'upset', 'almost', 'every', 'morning'], 'stomach_upset_almost_every_morning'), (['morning', 'stomach', 'issues'], 'stomach_upset_almost_every_morning'), (['stomach', 'problems', 'in', 'the', 'morning'], 'stomach_upset_almost_every_morning'), (['persistent', 'rash', 'on', 'forearm'], 'persistent_rash_on_forearm'), (['forearm', 'rash'], 'persistent_rash_on_forearm'), (['itchy', 'rash', 'on', 'arm'], 'persistent_rash_on_forearm'), (['cough', 'and', 'difficulty', 'breathing', 'at', 'night'], 'cough_difficulty_breathing_at_night'), (['nighttime', 'cough'], 'cough_difficulty_breathing_at_night'), (['shortness', 'of', 'breath', 'at', 'night'], 'cough_difficulty_breathing_at_night'), (['knee', 'hurts', 'when', 'climbing', 'stairs'], 'knee_hurts_when_climbing_stairs'), (['pain', 'in', 'knee', 'when', 'walking', 'up', 'stairs'], 'knee_hurts_when_climbing_stairs'), (['knee', 'pain'], 'knee_hurts_when_climbing_stairs'), (['seeing', 'floaters', 'in', 'vision', 'frequently'], 'seeing_floaters_in_vision_frequently'), (['floaters', 'in', 'vision'], 'seeing_floaters_in_vision_frequently'), (['spots', 'in', 'vision'], 'seeing_floaters_in_vision_frequently'), (['feeling', 'unusually', 'tired'], 'feeling_unusually_tired'), (['always', 'tired'], 'feeling_unusually_tired'), (['fatigue'], 'feeling_unusually_tired'), (['lower', 'back', 'pain', 'constant', 'after', 'sitting'], 'lower_back_pain_constant_after_sitting'), (['back', 'pain', 'after', 'sitting'], 'lower_back_pain_constant_after_sitting'), (['pain', 'in', 'lower', 'back'], 'lower_back_pain_constant_after_sitting'), (['thirsty', 'all', 'the', 'time', 'and', 'urinating', 'more', 'often'], 'thirsty_all_the_time_urinating_often'), (['constant', 'thirst'], 'thirsty_all_the_time_urinating_often'), (['frequent', 'urination'], 'thirsty_all_the_time_urinating_often'), (['trouble', 'falling', 'asleep'], 'trouble_falling_asleep_feeling_anxious'), (['feeling', 'anxious', 'and', 'ca', \"n't\", 'sleep'], 'trouble_falling_asleep_feeling_anxious'), (['insomnia'], 'trouble_falling_asleep_feeling_anxious'), (['allergies', 'worse', 'this', 'season'], 'allergies_worse_this_season'), (['seasonal', 'allergies'], 'allergies_worse_this_season'), (['worsening', 'allergies'], 'allergies_worse_this_season'), (['pain', 'and', 'swelling', 'in', 'wrists'], 'pain_and_swelling_in_wrists'), (['wrist', 'pain'], 'pain_and_swelling_in_wrists'), (['swollen', 'wrists'], 'pain_and_swelling_in_wrists'), (['skin', 'very', 'dry', 'and', 'itchy'], 'skin_very_dry_and_itchy'), (['dry', ',', 'itchy', 'skin'], 'skin_very_dry_and_itchy'), (['extremely', 'dry', 'skin'], 'skin_very_dry_and_itchy'), (['feeling', 'dizzy', 'when', 'standing', 'up', 'quickly'], 'feeling_dizzy_when_standing_up_quickly'), (['dizziness', 'upon', 'standing'], 'feeling_dizzy_when_standing_up_quickly'), (['lightheaded', 'when', 'standing'], 'feeling_dizzy_when_standing_up_quickly'), (['hearing', 'ringing', 'noise', 'in', 'ears', 'often'], 'hearing_ringing_noise_in_ears_often'), (['tinnitus'], 'hearing_ringing_noise_in_ears_often'), (['ringing', 'in', 'ears'], 'hearing_ringing_noise_in_ears_often'), (['losing', 'weight', 'without', 'trying'], 'losing_weight_without_trying'), (['unexplained', 'weight', 'loss'], 'losing_weight_without_trying'), (['weight', 'loss'], 'losing_weight_without_trying'), (['noticed', 'more', 'hair', 'falling', 'out', 'than', 'usual'], 'noticed_more_hair_falling_out_than_usual'), (['hair', 'loss'], 'noticed_more_hair_falling_out_than_usual'), (['increased', 'hair', 'shedding'], 'noticed_more_hair_falling_out_than_usual'), (['memory', 'has', \"n't\", 'been', 'as', 'sharp', 'lately'], 'memory_not_as_sharp_lately'), (['difficulty', 'with', 'memory'], 'memory_not_as_sharp_lately'), (['poor', 'memory'], 'memory_not_as_sharp_lately'), (['experiencing', 'chest', 'pain', 'occasionally'], 'experiencing_chest_pain_occasionaly'), (['chest', 'pain'], 'experiencing_chest_pain_occasionaly'), (['pain', 'in', 'chest'], 'experiencing_chest_pain_occasionaly'), (['appetite', 'has', 'decreased', 'significantly'], 'appetite_has_decreased_significantly'), (['loss', 'of', 'appetite'], 'appetite_has_decreased_significantly'), (['eating', 'less'], 'appetite_has_decreased_significantly'), (['feeling', 'short', 'of', 'breath', 'after', 'minimal', 'activity'], 'feeling_short_of_breath_after_minimal_activity'), (['shortness', 'of', 'breath'], 'feeling_short_of_breath_after_minimal_activity'), (['breathlessness'], 'feeling_short_of_breath_after_minimal_activity'), (['bruises', 'appearing', 'without', 'any', 'injury'], 'bruises_appearing_without_any_injury'), (['bruises', 'with', 'no', 'cause'], 'bruises_appearing_without_any_injury'), (['unexplained', 'bruising'], 'bruises_appearing_without_any_injury'), (['frequent', 'sore', 'throats'], 'frequent_sore_throats'), (['sore', 'throat', 'often'], 'frequent_sore_throats'), (['recurrent', 'sore', 'throat'], 'frequent_sore_throats'), (['difficulty', 'swallowing', 'food'], 'difficulty_swallowing_food'), (['trouble', 'swallowing'], 'difficulty_swallowing_food'), (['painful', 'swallowing'], 'difficulty_swallowing_food'), (['noticing', 'blood', 'in', 'stool'], 'noticing_blood_in_stool'), (['blood', 'in', 'stool'], 'noticing_blood_in_stool'), (['bloody', 'stools'], 'noticing_blood_in_stool'), (['constantly', 'feeling', 'cold'], 'constantely_feeling_cold'), (['feeling', 'cold', 'all', 'the', 'time'], 'constantely_feeling_cold'), (['always', 'cold'], 'constantely_feeling_cold'), (['periods', 'have', 'been', 'irregular'], 'periods_irregular'), (['irregular', 'menstrual', 'cycles'], 'periods_irregular'), (['changes', 'in', 'menstrual', 'cycle'], 'periods_irregular'), (['swelling', 'and', 'pain', 'in', 'ankles'], 'swelling_pain_in_ankles'), (['ankle', 'pain', 'and', 'swelling'], 'swelling_pain_in_ankles'), (['swollen', 'ankles'], 'swelling_pain_in_ankles'), (['severe', 'headaches', 'and', 'occasional', 'dizziness'], 'severe_headaches_dizziness'), (['frequent', 'headaches', 'and', 'dizziness'], 'severe_headaches_dizziness'), (['headaches', 'with', 'dizziness'], 'severe_headaches_dizziness'), (['stomach', 'upset', 'and', 'diarrhea', 'and', 'nausea'], 'stomach_upset_diarrhea_nausea'), (['digestive', 'issues'], 'stomach_upset_diarrhea_nausea'), (['frequent', 'stomach', 'upset'], 'stomach_upset_diarrhea_nausea'), (['rash', 'on', 'arm', 'that', \"'s\", 'itchy', 'and', 'spreading'], 'rash_on_arm_itchy_spreading'), (['spreading', 'rash'], 'rash_on_arm_itchy_spreading'), (['itchy', 'rash', 'on', 'arm'], 'rash_on_arm_itchy_spreading'), (['persistent', 'coughing', 'and', 'shortness', 'of', 'breath'], 'persistent_cough_shortness_of_breath'), (['cough', 'and', 'breathlessness'], 'persistent_cough_shortness_of_breath'), (['chronic', 'cough'], 'persistent_cough_shortness_of_breath'), (['sharp', 'knee', 'pain', 'when', 'walking', 'or', 'climbing', 'stairs'], 'sharp_knee_pain_walking_climbing_stairs'), (['knee', 'pain', 'while', 'climbing'], 'sharp_knee_pain_walking_climbing_stairs'), (['pain', 'in', 'knee', 'during', 'activity'], 'sharp_knee_pain_walking_climbing_stairs'), (['vision', 'blurry', 'when', 'reading'], 'vision_blurry_when_reading'), (['blurry', 'vision'], 'vision_blurry_when_reading'), (['difficulty', 'seeing', 'clearly'], 'vision_blurry_when_reading'), (['severe', 'abdominal', 'pain', 'and', 'tenderness'], 'severe_abdominal_pain_tenderness'), (['pain', 'in', 'lower', 'right', 'side', 'of', 'abdomen'], 'severe_abdominal_pain_tenderness'), (['lower', 'right', 'side', 'abdominal', 'pain'], 'severe_abdominal_pain_tenderness'), (['difficulty', 'swallowing', 'food'], 'difficulty_swallowing_food'), (['feeling', 'like', 'food', 'is', 'stuck', 'in', 'the', 'throat'], 'difficulty_swallowing_food'), (['trouble', 'swallowing'], 'difficulty_swallowing_food'), (['chronic', 'dry', 'cough'], 'chronic_dry_cough'), (['persistent', 'hacking', 'cough'], 'chronic_dry_cough'), (['dry', 'cough', 'without', 'infection'], 'chronic_dry_cough'), (['thinning', 'hair', 'on', 'top', 'of', 'head'], 'thinning_hair_on_top_of_head'), (['hair', 'thinning', 'on', 'the', 'scalp'], 'thinning_hair_on_top_of_head'), (['balding', 'on', 'the', 'top', 'of', 'head'], 'thinning_hair_on_top_of_head'), (['greenish', 'discharge', 'from', 'eyes'], 'greenish_discharge_from_eyes'), (['itchy', 'eyes', 'with', 'green', 'discharge'], 'greenish_discharge_from_eyes'), (['irritation', 'and', 'discharge', 'from', 'eyes'], 'greenish_discharge_from_eyes'), (['confusion', 'and', 'difficulty', 'speaking'], 'confusion_difficulty_speaking'), (['trouble', 'understanding', 'speech'], 'confusion_difficulty_speaking'), (['difficulty', 'speaking', 'and', 'confusion'], 'confusion_difficulty_speaking'), (['constant', 'feeling', 'of', 'fullness', 'in', 'ears'], 'fullness_in_ears_hearing_loss'), (['ear', 'fullness', 'and', 'hearing', 'loss'], 'fullness_in_ears_hearing_loss'), (['hearing', 'issues', 'and', 'ear', 'fullness'], 'fullness_in_ears_hearing_loss'), (['blood', 'in', 'stool', 'and', 'change', 'in', 'bowel', 'movement', 'frequency'], 'blood_in_stool_change_in_bowel_movement'), (['bloody', 'stools', 'with', 'altered', 'bowel', 'movements'], 'blood_in_stool_change_in_bowel_movement'), (['stool', 'with', 'blood', 'and', 'frequency', 'changes'], 'blood_in_stool_change_in_bowel_movement'), (['I', \"'m\", 'stressed', '.'], \"I'm stressed\"), (['I', \"'m\", 'feeling', 'stressed', '.'], \"I'm stressed\"), (['I', \"'m\", 'under', 'a', 'lot', 'of', 'stress', '.'], \"I'm stressed\"), (['I', \"'m\", 'depressed', '.'], \"I'm depressed\"), (['I', \"'m\", 'feeling', 'depressed', '.'], \"I'm depressed\"), (['I', 'think', 'I', \"'m\", 'depressed', '.'], \"I'm depressed\"), (['I', 'have', 'anxiety', '.'], 'I have anxiety'), (['I', \"'m\", 'feeling', 'anxious', '.'], 'I have anxiety'), (['I', 'think', 'I', 'have', 'anxiety', '.'], 'I have anxiety'), (['I', \"'m\", 'feeling', 'lonely', '.'], \"I'm feeling lonely\"), (['I', 'feel', 'lonely', '.'], \"I'm feeling lonely\"), (['I', \"'m\", 'lonely', '.'], \"I'm feeling lonely\"), (['I', 'have', 'a', 'headache', '.'], 'I have a headache'), (['My', 'head', 'hurts', '.'], 'I have a headache'), (['I', \"'m\", 'having', 'headaches', '.'], 'I have a headache'), (['I', \"'m\", 'tired', '.'], \"I'm tired\"), (['I', 'feel', 'exhausted', '.'], \"I'm tired\"), (['I', \"'m\", 'always', 'tired', '.'], \"I'm tired\"), (['I', 'have', 'a', 'cold', '.'], 'I have a cold'), (['I', \"'m\", 'sneezing', 'a', 'lot', '.'], 'I have a cold'), (['I', 'have', 'a', 'runny', 'nose', '.'], 'I have a cold'), (['I', 'have', 'a', 'fever', '.'], 'I have a fever'), (['I', \"'m\", 'running', 'a', 'temperature', '.'], 'I have a fever'), (['My', 'body', 'feels', 'hot', '.'], 'I have a fever'), (['I', 'have', 'a', 'sore', 'throat', '.'], 'I have a sore throat'), (['My', 'throat', 'hurts', '.'], 'I have a sore throat'), (['It', \"'s\", 'painful', 'to', 'swallow', '.'], 'I have a sore throat'), (['I', 'have', 'a', 'cough', '.'], 'I have a cough'), (['I', \"'m\", 'coughing', 'a', 'lot', '.'], 'I have a cough'), (['I', 'ca', \"n't\", 'stop', 'coughing', '.'], 'I have a cough'), (['I', 'have', 'a', 'stomach', 'ache', '.'], 'I have a stomach ache'), (['My', 'stomach', 'hurts', '.'], 'I have a stomach ache'), (['I', 'have', 'a', 'pain', 'in', 'my', 'abdomen', '.'], 'I have a stomach ache'), (['I', \"'m\", 'nauseous', '.'], \"I'm nauseous\"), (['I', 'feel', 'like', 'vomiting', '.'], \"I'm nauseous\"), (['I', 'have', 'nausea', '.'], \"I'm nauseous\"), (['I', 'have', 'diarrhea', '.'], 'I have diarrhea'), (['I', \"'m\", 'having', 'loose', 'stools', '.'], 'I have diarrhea'), (['I', 'ca', \"n't\", 'stop', 'going', 'to', 'the', 'bathroom', '.'], 'I have diarrhea'), (['I', 'have', 'constipation', '.'], 'I have constipation'), (['I', \"'m\", 'having', 'trouble', 'going', 'to', 'the', 'bathroom', '.'], 'I have constipation'), (['I', 'ca', \"n't\", 'poop', '.'], 'I have constipation'), (['I', 'have', 'allergies', '.'], 'I have allergies'), (['I', \"'m\", 'sneezing', 'a', 'lot', '.'], 'I have allergies'), (['I', 'have', 'itchy', 'eyes', '.'], 'I have allergies'), (['I', 'have', 'a', 'rash', '.'], 'I have a rash'), (['My', 'skin', 'is', 'itchy', '.'], 'I have a rash'), (['I', 'have', 'red', 'spots', 'on', 'my', 'skin', '.'], 'I have a rash'), (['I', 'have', 'back', 'pain', '.'], 'I have back pain'), (['My', 'back', 'hurts', '.'], 'I have back pain'), (['I', \"'m\", 'having', 'lower', 'back', 'pain', '.'], 'I have back pain'), (['I', 'have', 'chest', 'pain', '.'], 'I have chest pain'), (['My', 'chest', 'hurts', '.'], 'I have chest pain'), (['I', \"'m\", 'having', 'sharp', 'chest', 'pains', '.'], 'I have chest pain'), (['I', \"'m\", 'having', 'trouble', 'breathing', '.'], \"I'm having trouble breathing\"), (['I', 'ca', \"n't\", 'breathe', '.'], \"I'm having trouble breathing\"), (['I', \"'m\", 'short', 'of', 'breath', '.'], \"I'm having trouble breathing\"), (['I', 'have', 'a', 'toothache', '.'], 'I have a toothache'), (['My', 'tooth', 'hurts', '.'], 'I have a toothache'), (['I', \"'m\", 'having', 'dental', 'pain', '.'], 'I have a toothache'), (['I', 'have', 'an', 'earache', '.'], 'I have an earache'), (['My', 'ear', 'hurts', '.'], 'I have an earache'), (['I', \"'m\", 'having', 'ear', 'pain', '.'], 'I have an earache'), (['I', 'have', 'a', 'sore', 'back', '.'], 'I have a sore back'), (['My', 'back', 'is', 'sore', '.'], 'I have a sore back'), (['I', 'have', 'back', 'soreness', '.'], 'I have a sore back'), (['I', 'have', 'muscle', 'pain', '.'], 'I have muscle pain'), (['My', 'muscles', 'hurt', '.'], 'I have muscle pain'), (['I', \"'m\", 'having', 'muscle', 'aches', '.'], 'I have muscle pain')] \n",
            "\n",
            "100 classes\n",
            " ['I have a cold', 'I have a cough', 'I have a fever', 'I have a headache', 'I have a rash', 'I have a sore back', 'I have a sore throat', 'I have a stomach ache', 'I have a toothache', 'I have allergies', 'I have an earache', 'I have anxiety', 'I have back pain', 'I have chest pain', 'I have constipation', 'I have diarrhea', 'I have muscle pain', \"I'm depressed\", \"I'm feeling lonely\", \"I'm having trouble breathing\", \"I'm nauseous\", \"I'm stressed\", \"I'm tired\", 'allergies_worse_this_season', 'appetite_has_decreased_significantly', 'asthma', 'blood_in_stool_change_in_bowel_movement', 'brittle_nails_dry_skin', 'bruises_appearing_without_any_injury', 'chronic_dry_cough', 'chronic_fatigue_syndrome', 'confusion_difficulty_speaking', 'constantely_feeling_cold', 'cough_difficulty_breathing_at_night', 'cramps_muscle_spasms', 'diabetes_mellitus', 'difficulty_concentrating_tasks', 'difficulty_swallowing_food', 'early_onset_dementia', 'esophageal_reflux', 'excessive_sweating_at_night', 'experiencing_chest_pain_occasionaly', 'feeling_dizzy_when_standing_up_quickly', 'feeling_short_of_breath_after_minimal_activity', 'feeling_unusually_tired', 'food_allergy', 'frequent_sore_throats', 'fullness_in_ears_hearing_loss', 'greenish_discharge_from_eyes', 'greeting', 'hair_loss_in_patches', 'hearing_ringing_noise_in_ears_often', 'hemophilia', 'hepatitis', 'herpes_simplex', 'hypothyroidism', 'increased_sensitivity_to_cold', 'irritable_bowel_syndrome', 'knee_hurts_when_climbing_stairs', 'losing_weight_without_trying', 'loss_of_balance_coordination', 'lower_back_pain_constant_after_sitting', 'lung_cancer', 'memory_not_as_sharp_lately', 'migraine', 'mononucleosis', 'mood_swings_irritability', 'noticed_more_hair_falling_out_than_usual', 'noticing_blood_in_stool', 'numbness_in_hands_feet', 'pain_and_swelling_in_wrists', 'painful_urination', 'pancreatitis', 'panic_attacks', 'pericarditis', 'periods_irregular', 'persistent_cough_shortness_of_breath', 'persistent_rash_on_forearm', 'rash_on_arm_itchy_spreading', 'rheumatoid_arthritis', 'scabies', 'seeing_floaters_in_vision_frequently', 'severe_abdominal_pain_tenderness', 'severe_headaches_dizziness', 'severe_headaches_lately', 'severe_itching_without_rash', 'sharp_knee_pain_walking_climbing_stairs', 'skin_very_dry_and_itchy', 'stomach_upset_almost_every_morning', 'stomach_upset_diarrhea_nausea', 'subarachnoid_hemorrhage', 'swelling_pain_in_ankles', 'tension_headaches', 'thinning_hair_on_top_of_head', 'thirsty_all_the_time_urinating_often', 'trouble_falling_asleep_feeling_anxious', 'tuberculosis', 'type_1_diabetes', 'urinary_tract_infection', 'vision_blurry_when_reading'] \n",
            "\n",
            "371 unique lemmatized words\n",
            " [\"'m\", \"'s\", \"'ve\", ',', '.', 'a', 'abdomen', 'abdominal', 'accompanied', 'ache', 'activity', 'after', 'all', 'allergy', 'almost', 'altered', 'always', 'an', 'and', 'ankle', 'anxiety', 'anxious', 'any', 'appearing', 'appetite', 'are', 'arm', 'around', 'asleep', 'at', 'attack', 'awake', 'back', 'bad', 'balance', 'bald', 'balding', 'bathroom', 'been', 'bleeding', 'blister', 'bloating', 'blood', 'blood-tinged', 'bloody', 'blurred', 'blurry', 'body', 'bout', 'bowel', 'breath', 'breathe', 'breathing', 'breathlessness', 'brittle', 'bruise', 'bruising', 'burning', 'burrow', 'by', 'ca', 'cause', 'certain', 'change', 'chest', 'chronic', 'clearly', 'climbing', 'cold', 'concentrate', 'concentrating', 'confusion', 'constant', 'constantly', 'constipation', 'consuming', 'coordination', 'cough', 'coughing', 'cramp', 'cut', 'cycle', 'dark', 'decreased', 'deeply', 'dental', 'depressed', 'diarrhea', 'diet', 'difficulty', 'digestive', 'discharge', 'dizziness', 'dizzy', 'down', 'dry', 'during', 'ear', 'earache', 'easy', 'eating', 'episode', 'especially', 'even', 'every', 'excessive', 'exertion', 'exhausted', 'experiencing', 'extreme', 'extremely', 'eye', 'face', 'faint', 'falling', 'fatigue', 'fatigued', 'feel', 'feeling', 'fever', 'feverish', 'find', 'finger', 'floater', 'focusing', 'food', 'foot', 'for', 'forearm', 'forward', 'frequency', 'frequent', 'frequently', 'from', 'full', 'fullness', 'gain', 'gas', 'general', 'going', 'green', 'greenish', 'greeting', 'ha', 'habit', 'hacking', 'hair', 'hand', 'hard', 'have', 'having', 'head', 'headache', 'hearing', 'heartbeat', 'heartburn', 'hello', 'hey', 'hi', 'high', 'hot', 'hour', 'hunger', 'hurt', 'i', 'in', 'increased', 'infection', 'inhaling', 'injury', 'insomnia', 'intense', 'irregular', 'irritability', 'irritation', 'is', 'issue', 'it', 'itching', 'itchy', 'joint', 'knee', 'known', 'lapse', 'last', 'lately', 'le', 'light', 'lightheaded', 'like', 'liquid', 'lonely', 'loose', 'losing', 'loss', 'lot', 'lower', 'lying', 'lymph', 'memory', 'menstrual', 'migraine', 'mild', 'minimal', 'mood', 'moody', 'more', 'morning', 'mouth', 'move', 'movement', 'muscle', 'my', \"n't\", 'nail', 'nausea', 'nauseous', 'night', 'nighttime', 'no', 'node', 'noise', 'nose', 'nosebleed', 'noticed', 'noticing', 'numb', 'numbness', 'occasional', 'occasionally', 'of', 'often', 'on', 'or', 'out', 'pain', 'painful', 'panic', 'patch', 'patchy', 'period', 'persistent', 'persistently', 'phlegm', 'physical', 'poop', 'poor', 'pressure', 'problem', 'progressive', 'prolonged', 'puffiness', 'quickly', 'radiating', 'rapid', 'rash', 'reading', 'recurrent', 'recurring', 'red', 'repeated', 'right', 'ringing', 'running', 'runny', 'scalp', 'season', 'seasonal', 'seeing', 'sensation', 'sensitive', 'sensitivity', 'severe', 'sharp', 'shedding', 'short', 'shortness', 'side', 'significantly', 'sitting', 'skin', 'sleep', 'sleeping', 'sneezing', 'sore', 'soreness', 'sound', 'spasm', 'speaking', 'speech', 'spot', 'spreading', 'sputum', 'stabbing', 'stair', 'standing', 'start', 'stay', 'stiffness', 'stomach', 'stool', 'stop', 'stress', 'stressed', 'struggling', 'stuck', 'sudden', 'swallow', 'swallowing', 'sweat', 'sweating', 'swelling', 'swing', 'swollen', 'task', 'temperature', 'tender', 'tenderness', 'than', 'that', 'the', 'think', 'thinning', 'thirst', 'thirsty', 'this', 'throat', 'tightness', 'time', 'tingling', 'tinnitus', 'tired', 'to', 'tooth', 'toothache', 'top', 'tract', 'trouble', 'trying', 'under', 'understanding', 'unexplained', 'unintended', 'unusually', 'up', 'upon', 'upset', 'urinary', 'urinating', 'urination', 'urine', 'usual', 'very', 'visible', 'vision', 'vomiting', 'walking', 'weak', 'weakness', 'week', 'weight', 'wheezing', 'when', 'while', 'with', 'without', 'worse', 'worsening', 'worsens', 'wrist', 'yellowing'] \n",
            "\n"
          ]
        }
      ],
      "source": [
        "# lemmatize, lower each word and remove duplicates\n",
        "words = [lemmatizer.lemmatize(w.lower()) for w in words if w not in ignore_words]\n",
        "words = sorted(list(set(words)))\n",
        "# sort classes\n",
        "classes = sorted(list(set(classes)))\n",
        "# documents = combination between patterns and intents\n",
        "print (len(documents), \"documents\\n\", documents, \"\\n\")\n",
        "# classes = intents[tag]\n",
        "print (len(classes), \"classes\\n\", classes, \"\\n\")\n",
        "# words = all words, vocabulary\n",
        "print (len(words), \"unique lemmatized words\\n\", words, \"\\n\")\n",
        "pickle.dump(words,open('words.pkl','wb'))\n",
        "pickle.dump(classes,open('classes.pkl','wb'))"
      ]
    },
    {
      "cell_type": "markdown",
      "id": "38fa64be",
      "metadata": {
        "id": "38fa64be",
        "papermill": {
          "duration": null,
          "end_time": null,
          "exception": null,
          "start_time": null,
          "status": "pending"
        },
        "tags": []
      },
      "source": [
        "# **Training Model**"
      ]
    },
    {
      "cell_type": "markdown",
      "id": "49529d20",
      "metadata": {
        "id": "49529d20",
        "papermill": {
          "duration": null,
          "end_time": null,
          "exception": null,
          "start_time": null,
          "status": "pending"
        },
        "tags": []
      },
      "source": [
        "Now, we will create the training data in which we will provide the input and the output.\n",
        "- Our input will be the pattern and output will be the class our input pattern belongs to. But the computer doesn’t understand text so we will convert text into numbers"
      ]
    },
    {
      "cell_type": "code",
      "execution_count": 146,
      "id": "90fe3fa5",
      "metadata": {
        "id": "90fe3fa5",
        "outputId": "8f7fc967-21b9-4049-cb16-782a892cc5ac",
        "papermill": {
          "duration": null,
          "end_time": null,
          "exception": null,
          "start_time": null,
          "status": "pending"
        },
        "tags": [],
        "colab": {
          "base_uri": "https://localhost:8080/"
        }
      },
      "outputs": [
        {
          "output_type": "stream",
          "name": "stdout",
          "text": [
            "Training data created\n"
          ]
        }
      ],
      "source": [
        "import numpy as np\n",
        "import random\n",
        "\n",
        "# Create empty lists for bags and output_rows\n",
        "bags = []\n",
        "output_rows = []\n",
        "\n",
        "# Iterate through documents to create bags and output_rows\n",
        "for doc in documents:\n",
        "    bag = []\n",
        "    pattern_words = doc[0]\n",
        "    pattern_words = [lemmatizer.lemmatize(word.lower()) for word in pattern_words]\n",
        "\n",
        "    # Create a bag for the current document\n",
        "    for w in words:\n",
        "        bag.append(1) if w in pattern_words else bag.append(0)\n",
        "\n",
        "    # Create the output row for the current document\n",
        "    output_row = [0] * len(classes)\n",
        "    output_row[classes.index(doc[1])] = 1\n",
        "\n",
        "    # Append the bag and output_row to their respective lists\n",
        "    bags.append(bag)\n",
        "    output_rows.append(output_row)\n",
        "\n",
        "# Convert bags and output_rows to numpy arrays\n",
        "bags = np.array(bags)\n",
        "output_rows = np.array(output_rows)\n",
        "\n",
        "# Combine bags and output_rows into a list of tuples\n",
        "training = list(zip(bags, output_rows))\n",
        "\n",
        "# Shuffle training\n",
        "random.shuffle(training)\n",
        "\n",
        "# Convert bags and output_rows back to lists for easier indexing\n",
        "bags, output_rows = zip(*training)\n",
        "\n",
        "# Convert bags and output_rows to numpy arrays\n",
        "bags = np.array(bags)\n",
        "output_rows = np.array(output_rows)\n",
        "\n",
        "# Split into train and test sets\n",
        "train_x = bags\n",
        "train_y = output_rows\n",
        "\n",
        "# Use the same data for the test for now (you might want to split differently)\n",
        "test_x = train_x\n",
        "test_y = train_y\n",
        "\n",
        "print(\"Training data created\")\n"
      ]
    },
    {
      "cell_type": "code",
      "execution_count": 147,
      "id": "9421ec1f",
      "metadata": {
        "id": "9421ec1f",
        "papermill": {
          "duration": null,
          "end_time": null,
          "exception": null,
          "start_time": null,
          "status": "pending"
        },
        "tags": []
      },
      "outputs": [],
      "source": [
        "from tensorflow.python.framework import ops\n",
        "ops.reset_default_graph()"
      ]
    },
    {
      "cell_type": "markdown",
      "id": "1c37342b",
      "metadata": {
        "id": "1c37342b",
        "papermill": {
          "duration": null,
          "end_time": null,
          "exception": null,
          "start_time": null,
          "status": "pending"
        },
        "tags": []
      },
      "source": [
        "# **Build the model**"
      ]
    },
    {
      "cell_type": "markdown",
      "id": "2e2843f3",
      "metadata": {
        "id": "2e2843f3",
        "papermill": {
          "duration": null,
          "end_time": null,
          "exception": null,
          "start_time": null,
          "status": "pending"
        },
        "tags": []
      },
      "source": [
        "We have our training data ready, now we will build a deep neural network that has 3 layers. We use the Keras sequential API for this. After training the model for 200 epochs, we achieved 100% accuracy on our model. Let us save the model as ‘chatbot_model.h5'."
      ]
    },
    {
      "cell_type": "code",
      "execution_count": 148,
      "id": "f10b0bda",
      "metadata": {
        "id": "f10b0bda",
        "papermill": {
          "duration": null,
          "end_time": null,
          "exception": null,
          "start_time": null,
          "status": "pending"
        },
        "tags": []
      },
      "outputs": [],
      "source": [
        "# Create the model\n",
        "model = Sequential()\n",
        "model.add(Dense(128, input_shape=(len(train_x[0]),), activation='relu'))\n",
        "model.add(Dropout(0.5))\n",
        "model.add(Dense(64, activation='relu'))\n",
        "model.add(Dropout(0.5))\n",
        "model.add(Dense(len(train_y[0]), activation='softmax'))\n",
        "\n",
        "# Compile the model using Adam optimizer without weight_decay\n",
        "model.compile(loss='categorical_crossentropy', optimizer='adam', metrics=['accuracy'])\n"
      ]
    },
    {
      "cell_type": "code",
      "execution_count": 149,
      "id": "f8d66c6f",
      "metadata": {
        "id": "f8d66c6f",
        "papermill": {
          "duration": null,
          "end_time": null,
          "exception": null,
          "start_time": null,
          "status": "pending"
        },
        "tags": []
      },
      "outputs": [],
      "source": [
        "# # Create model - 3 layers. First layer 128 neurons, second layer 64 neurons and 3rd output layer contains number of neurons\n",
        "# # equal to number of intents to predict output intent with softmax\n",
        "# model = Sequential()\n",
        "# model.add(Dense(128, input_shape=(len(train_x[0]),), activation='relu'))\n",
        "# model.add(Dropout(0.5))\n",
        "# model.add(Dense(64, activation='relu'))\n",
        "# model.add(Dropout(0.5))\n",
        "# model.add(Dense(len(train_y[0]), activation='softmax'))\n",
        "# print(\"First layer:\",model.layers[0].get_weights()[0])"
      ]
    },
    {
      "cell_type": "code",
      "execution_count": 150,
      "id": "2b324e5e",
      "metadata": {
        "id": "2b324e5e",
        "papermill": {
          "duration": null,
          "end_time": null,
          "exception": null,
          "start_time": null,
          "status": "pending"
        },
        "tags": []
      },
      "outputs": [],
      "source": [
        "# model = Sequential()\n",
        "# model.add(Dense(128, input_shape=(len(train_x[0]),), activation='relu'))\n",
        "# model.add(Dropout(0.5))\n",
        "# model.add(Dense(64, activation='relu'))\n",
        "# model.add(Dropout(0.5))\n",
        "# model.add(Dense(len(train_y[0]), activation='softmax'))\n",
        "# model.compile(loss='categorical_crossentropy', optimizer='adam', metrics=['accuracy'])\n"
      ]
    },
    {
      "cell_type": "code",
      "execution_count": 151,
      "id": "225e1300",
      "metadata": {
        "id": "225e1300",
        "outputId": "5e239b50-f25e-4806-bd56-2cb97dd149cf",
        "papermill": {
          "duration": null,
          "end_time": null,
          "exception": null,
          "start_time": null,
          "status": "pending"
        },
        "tags": [],
        "colab": {
          "base_uri": "https://localhost:8080/"
        }
      },
      "outputs": [
        {
          "output_type": "stream",
          "name": "stdout",
          "text": [
            "Epoch 1/75\n",
            "59/59 [==============================] - 2s 2ms/step - loss: 4.6258 - accuracy: 0.0068\n",
            "Epoch 2/75\n",
            "59/59 [==============================] - 0s 3ms/step - loss: 4.5802 - accuracy: 0.0170\n",
            "Epoch 3/75\n",
            "59/59 [==============================] - 0s 3ms/step - loss: 4.5044 - accuracy: 0.0408\n",
            "Epoch 4/75\n",
            "59/59 [==============================] - 0s 2ms/step - loss: 4.4398 - accuracy: 0.0612\n",
            "Epoch 5/75\n",
            "59/59 [==============================] - 0s 2ms/step - loss: 4.2838 - accuracy: 0.0952\n",
            "Epoch 6/75\n",
            "59/59 [==============================] - 0s 2ms/step - loss: 4.1319 - accuracy: 0.1054\n",
            "Epoch 7/75\n",
            "59/59 [==============================] - 0s 2ms/step - loss: 3.9029 - accuracy: 0.1565\n",
            "Epoch 8/75\n",
            "59/59 [==============================] - 0s 2ms/step - loss: 3.6764 - accuracy: 0.1599\n",
            "Epoch 9/75\n",
            "59/59 [==============================] - 0s 2ms/step - loss: 3.5156 - accuracy: 0.1701\n",
            "Epoch 10/75\n",
            "59/59 [==============================] - 0s 3ms/step - loss: 3.2900 - accuracy: 0.2449\n",
            "Epoch 11/75\n",
            "59/59 [==============================] - 0s 2ms/step - loss: 3.1314 - accuracy: 0.2653\n",
            "Epoch 12/75\n",
            "59/59 [==============================] - 0s 2ms/step - loss: 2.8702 - accuracy: 0.3265\n",
            "Epoch 13/75\n",
            "59/59 [==============================] - 0s 2ms/step - loss: 2.7735 - accuracy: 0.3367\n",
            "Epoch 14/75\n",
            "59/59 [==============================] - 0s 2ms/step - loss: 2.5790 - accuracy: 0.3912\n",
            "Epoch 15/75\n",
            "59/59 [==============================] - 0s 2ms/step - loss: 2.4369 - accuracy: 0.4218\n",
            "Epoch 16/75\n",
            "59/59 [==============================] - 0s 3ms/step - loss: 2.2769 - accuracy: 0.4184\n",
            "Epoch 17/75\n",
            "59/59 [==============================] - 0s 2ms/step - loss: 2.1865 - accuracy: 0.4388\n",
            "Epoch 18/75\n",
            "59/59 [==============================] - 0s 3ms/step - loss: 2.0407 - accuracy: 0.5102\n",
            "Epoch 19/75\n",
            "59/59 [==============================] - 0s 2ms/step - loss: 1.9135 - accuracy: 0.4762\n",
            "Epoch 20/75\n",
            "59/59 [==============================] - 0s 3ms/step - loss: 1.8699 - accuracy: 0.5204\n",
            "Epoch 21/75\n",
            "59/59 [==============================] - 0s 3ms/step - loss: 1.8042 - accuracy: 0.5170\n",
            "Epoch 22/75\n",
            "59/59 [==============================] - 0s 3ms/step - loss: 1.8378 - accuracy: 0.4932\n",
            "Epoch 23/75\n",
            "59/59 [==============================] - 0s 2ms/step - loss: 1.7371 - accuracy: 0.5442\n",
            "Epoch 24/75\n",
            "59/59 [==============================] - 0s 2ms/step - loss: 1.5797 - accuracy: 0.5816\n",
            "Epoch 25/75\n",
            "59/59 [==============================] - 0s 3ms/step - loss: 1.6206 - accuracy: 0.5544\n",
            "Epoch 26/75\n",
            "59/59 [==============================] - 0s 2ms/step - loss: 1.5258 - accuracy: 0.5884\n",
            "Epoch 27/75\n",
            "59/59 [==============================] - 0s 2ms/step - loss: 1.5434 - accuracy: 0.5646\n",
            "Epoch 28/75\n",
            "59/59 [==============================] - 0s 2ms/step - loss: 1.4378 - accuracy: 0.5748\n",
            "Epoch 29/75\n",
            "59/59 [==============================] - 0s 3ms/step - loss: 1.3355 - accuracy: 0.6633\n",
            "Epoch 30/75\n",
            "59/59 [==============================] - 0s 2ms/step - loss: 1.3541 - accuracy: 0.6224\n",
            "Epoch 31/75\n",
            "59/59 [==============================] - 0s 2ms/step - loss: 1.2548 - accuracy: 0.6395\n",
            "Epoch 32/75\n",
            "59/59 [==============================] - 0s 2ms/step - loss: 1.2030 - accuracy: 0.6667\n",
            "Epoch 33/75\n",
            "59/59 [==============================] - 0s 2ms/step - loss: 1.2553 - accuracy: 0.6565\n",
            "Epoch 34/75\n",
            "59/59 [==============================] - 0s 2ms/step - loss: 1.1010 - accuracy: 0.7109\n",
            "Epoch 35/75\n",
            "59/59 [==============================] - 0s 3ms/step - loss: 1.1884 - accuracy: 0.6735\n",
            "Epoch 36/75\n",
            "59/59 [==============================] - 0s 3ms/step - loss: 1.1722 - accuracy: 0.6497\n",
            "Epoch 37/75\n",
            "59/59 [==============================] - 0s 2ms/step - loss: 1.0767 - accuracy: 0.7075\n",
            "Epoch 38/75\n",
            "59/59 [==============================] - 0s 3ms/step - loss: 1.0973 - accuracy: 0.6565\n",
            "Epoch 39/75\n",
            "59/59 [==============================] - 0s 2ms/step - loss: 1.0481 - accuracy: 0.6905\n",
            "Epoch 40/75\n",
            "59/59 [==============================] - 0s 2ms/step - loss: 1.0238 - accuracy: 0.6905\n",
            "Epoch 41/75\n",
            "59/59 [==============================] - 0s 3ms/step - loss: 0.9470 - accuracy: 0.7211\n",
            "Epoch 42/75\n",
            "59/59 [==============================] - 0s 3ms/step - loss: 1.0196 - accuracy: 0.7075\n",
            "Epoch 43/75\n",
            "59/59 [==============================] - 0s 2ms/step - loss: 0.9651 - accuracy: 0.7347\n",
            "Epoch 44/75\n",
            "59/59 [==============================] - 0s 4ms/step - loss: 0.8614 - accuracy: 0.7789\n",
            "Epoch 45/75\n",
            "59/59 [==============================] - 0s 3ms/step - loss: 0.9420 - accuracy: 0.7381\n",
            "Epoch 46/75\n",
            "59/59 [==============================] - 0s 4ms/step - loss: 1.0186 - accuracy: 0.6939\n",
            "Epoch 47/75\n",
            "59/59 [==============================] - 0s 4ms/step - loss: 0.9255 - accuracy: 0.7313\n",
            "Epoch 48/75\n",
            "59/59 [==============================] - 0s 3ms/step - loss: 0.9271 - accuracy: 0.7313\n",
            "Epoch 49/75\n",
            "59/59 [==============================] - 0s 3ms/step - loss: 0.8826 - accuracy: 0.7415\n",
            "Epoch 50/75\n",
            "59/59 [==============================] - 0s 3ms/step - loss: 0.9002 - accuracy: 0.7415\n",
            "Epoch 51/75\n",
            "59/59 [==============================] - 0s 4ms/step - loss: 0.8109 - accuracy: 0.7823\n",
            "Epoch 52/75\n",
            "59/59 [==============================] - 0s 4ms/step - loss: 0.7356 - accuracy: 0.7789\n",
            "Epoch 53/75\n",
            "59/59 [==============================] - 0s 3ms/step - loss: 0.7131 - accuracy: 0.7517\n",
            "Epoch 54/75\n",
            "59/59 [==============================] - 0s 3ms/step - loss: 0.8543 - accuracy: 0.7551\n",
            "Epoch 55/75\n",
            "59/59 [==============================] - 0s 4ms/step - loss: 0.6289 - accuracy: 0.8333\n",
            "Epoch 56/75\n",
            "59/59 [==============================] - 0s 4ms/step - loss: 0.7474 - accuracy: 0.7993\n",
            "Epoch 57/75\n",
            "59/59 [==============================] - 0s 3ms/step - loss: 0.7185 - accuracy: 0.7653\n",
            "Epoch 58/75\n",
            "59/59 [==============================] - 0s 3ms/step - loss: 0.7522 - accuracy: 0.7653\n",
            "Epoch 59/75\n",
            "59/59 [==============================] - 0s 3ms/step - loss: 0.6806 - accuracy: 0.7993\n",
            "Epoch 60/75\n",
            "59/59 [==============================] - 0s 4ms/step - loss: 0.7667 - accuracy: 0.7789\n",
            "Epoch 61/75\n",
            "59/59 [==============================] - 0s 4ms/step - loss: 0.7174 - accuracy: 0.7789\n",
            "Epoch 62/75\n",
            "59/59 [==============================] - 0s 3ms/step - loss: 0.6979 - accuracy: 0.7925\n",
            "Epoch 63/75\n",
            "59/59 [==============================] - 0s 2ms/step - loss: 0.6394 - accuracy: 0.8333\n",
            "Epoch 64/75\n",
            "59/59 [==============================] - 0s 2ms/step - loss: 0.7061 - accuracy: 0.8095\n",
            "Epoch 65/75\n",
            "59/59 [==============================] - 0s 3ms/step - loss: 0.7198 - accuracy: 0.7925\n",
            "Epoch 66/75\n",
            "59/59 [==============================] - 0s 3ms/step - loss: 0.6971 - accuracy: 0.7721\n",
            "Epoch 67/75\n",
            "59/59 [==============================] - 0s 2ms/step - loss: 0.6646 - accuracy: 0.7993\n",
            "Epoch 68/75\n",
            "59/59 [==============================] - 0s 3ms/step - loss: 0.6415 - accuracy: 0.8061\n",
            "Epoch 69/75\n",
            "59/59 [==============================] - 0s 2ms/step - loss: 0.7262 - accuracy: 0.7687\n",
            "Epoch 70/75\n",
            "59/59 [==============================] - 0s 2ms/step - loss: 0.6318 - accuracy: 0.8163\n",
            "Epoch 71/75\n",
            "59/59 [==============================] - 0s 3ms/step - loss: 0.6688 - accuracy: 0.7789\n",
            "Epoch 72/75\n",
            "59/59 [==============================] - 0s 3ms/step - loss: 0.6780 - accuracy: 0.7959\n",
            "Epoch 73/75\n",
            "59/59 [==============================] - 0s 2ms/step - loss: 0.6606 - accuracy: 0.7721\n",
            "Epoch 74/75\n",
            "59/59 [==============================] - 0s 2ms/step - loss: 0.6370 - accuracy: 0.8027\n",
            "Epoch 75/75\n",
            "59/59 [==============================] - 0s 2ms/step - loss: 0.5142 - accuracy: 0.8571\n"
          ]
        }
      ],
      "source": [
        "# Train the model\n",
        "hist = model.fit(np.array(train_x), np.array(train_y), epochs=75, batch_size=5, verbose=1)\n"
      ]
    },
    {
      "cell_type": "code",
      "execution_count": 152,
      "id": "a25dc118",
      "metadata": {
        "id": "a25dc118",
        "papermill": {
          "duration": null,
          "end_time": null,
          "exception": null,
          "start_time": null,
          "status": "pending"
        },
        "tags": []
      },
      "outputs": [],
      "source": [
        "model.save('medical_chatbot_model.h5')"
      ]
    },
    {
      "cell_type": "code",
      "execution_count": 153,
      "id": "8b2f1582",
      "metadata": {
        "id": "8b2f1582",
        "papermill": {
          "duration": null,
          "end_time": null,
          "exception": null,
          "start_time": null,
          "status": "pending"
        },
        "tags": []
      },
      "outputs": [],
      "source": [
        "# # Compile model. Stochastic gradient descent with Nesterov accelerated gradient gives good results for this model\n",
        "# # sgd = SGD(lr=0.01, decay=1e-6, momentum=0.9, nesterov=True)\n",
        "# model.compile(loss='categorical_crossentropy', optimizer='adam', metrics=['accuracy'])"
      ]
    },
    {
      "cell_type": "code",
      "execution_count": 154,
      "id": "ec56d338",
      "metadata": {
        "id": "ec56d338",
        "papermill": {
          "duration": null,
          "end_time": null,
          "exception": null,
          "start_time": null,
          "status": "pending"
        },
        "tags": []
      },
      "outputs": [],
      "source": [
        "# #fitting and saving the model\n",
        "# hist = model.fit(np.array(train_x), np.array(train_y), epochs=75, batch_size=5, verbose=1)\n",
        "# model.save('medical_chatbot_model.h5')\n",
        "\n",
        "# print(\"model created\")\n"
      ]
    },
    {
      "cell_type": "code",
      "execution_count": 155,
      "id": "c64f7057",
      "metadata": {
        "id": "c64f7057",
        "papermill": {
          "duration": null,
          "end_time": null,
          "exception": null,
          "start_time": null,
          "status": "pending"
        },
        "tags": []
      },
      "outputs": [],
      "source": [
        "from keras.models import load_model\n",
        "model1 = load_model('medical_chatbot_model.h5')"
      ]
    },
    {
      "cell_type": "code",
      "execution_count": 156,
      "id": "41600f9e",
      "metadata": {
        "id": "41600f9e",
        "papermill": {
          "duration": null,
          "end_time": null,
          "exception": null,
          "start_time": null,
          "status": "pending"
        },
        "tags": []
      },
      "outputs": [],
      "source": [
        "from sklearn.model_selection import train_test_split\n",
        "\n",
        "train_x, val_x, train_y, val_y = train_test_split(train_x, train_y, test_size=0.1, random_state=42)\n"
      ]
    },
    {
      "cell_type": "code",
      "execution_count": 157,
      "id": "7cf7d8f0",
      "metadata": {
        "id": "7cf7d8f0",
        "outputId": "5bb1d30b-99af-4cd9-97b5-4c2bafe0840f",
        "papermill": {
          "duration": null,
          "end_time": null,
          "exception": null,
          "start_time": null,
          "status": "pending"
        },
        "tags": [],
        "colab": {
          "base_uri": "https://localhost:8080/"
        }
      },
      "outputs": [
        {
          "output_type": "stream",
          "name": "stdout",
          "text": [
            "10/10 [==============================] - 0s 2ms/step - loss: 0.0643 - accuracy: 0.9830\n",
            "Test loss: 0.06432799994945526\n",
            "Test accuracy: 0.9829931855201721\n"
          ]
        }
      ],
      "source": [
        "# Evaluate the model on the test set\n",
        "loss, accuracy = model1.evaluate(np.array(test_x), np.array(test_y), verbose=1)\n",
        "print(\"Test loss:\", loss)\n",
        "print(\"Test accuracy:\", accuracy)"
      ]
    },
    {
      "cell_type": "code",
      "execution_count": 158,
      "id": "2bdc8461",
      "metadata": {
        "id": "2bdc8461",
        "outputId": "0ef99288-9160-478a-e489-56b4ca6538ae",
        "papermill": {
          "duration": null,
          "end_time": null,
          "exception": null,
          "start_time": null,
          "status": "pending"
        },
        "tags": [],
        "colab": {
          "base_uri": "https://localhost:8080/"
        }
      },
      "outputs": [
        {
          "output_type": "stream",
          "name": "stdout",
          "text": [
            "TensorFlow version: 2.15.0\n",
            "Keras version: 2.15.0\n",
            "NumPy version: 1.25.2\n",
            "NLTK version: 3.8.1\n"
          ]
        }
      ],
      "source": [
        "import tensorflow as tf\n",
        "import keras\n",
        "import numpy as np\n",
        "import nltk\n",
        "\n",
        "print(\"TensorFlow version:\", tf.__version__)\n",
        "print(\"Keras version:\", keras.__version__)\n",
        "print(\"NumPy version:\", np.__version__)\n",
        "print(\"NLTK version:\", nltk.__version__)\n"
      ]
    },
    {
      "cell_type": "markdown",
      "id": "1fb835b9",
      "metadata": {
        "id": "1fb835b9",
        "papermill": {
          "duration": null,
          "end_time": null,
          "exception": null,
          "start_time": null,
          "status": "pending"
        },
        "tags": []
      },
      "source": [
        "# FOR PREDICTING RESPONSE\n"
      ]
    },
    {
      "cell_type": "code",
      "execution_count": 192,
      "id": "73a4b7f2",
      "metadata": {
        "id": "73a4b7f2",
        "papermill": {
          "duration": null,
          "end_time": null,
          "exception": null,
          "start_time": null,
          "status": "pending"
        },
        "tags": []
      },
      "outputs": [],
      "source": [
        "intents = json.loads(open(r\"/content/deda.json\").read())\n",
        "\n",
        "words = pickle.load(open('words.pkl','rb'))\n",
        "\n",
        "classes = pickle.load(open('classes.pkl','rb'))"
      ]
    },
    {
      "cell_type": "code",
      "execution_count": 193,
      "id": "1c847ec5",
      "metadata": {
        "id": "1c847ec5",
        "papermill": {
          "duration": null,
          "end_time": null,
          "exception": null,
          "start_time": null,
          "status": "pending"
        },
        "tags": []
      },
      "outputs": [],
      "source": [
        "def clean_up_sentence(sentence):\n",
        "\n",
        "# tokenize the pattern - split words into array\n",
        "\n",
        "  sentence_words = nltk.word_tokenize(sentence)\n",
        "#print(sentence_words)\n",
        "# stem each word - create short form for word\n",
        "\n",
        "  sentence_words = [lemmatizer.lemmatize(word.lower()) for word in sentence_words]\n",
        "#print(sentence_words)b\n",
        "\n",
        "  return sentence_words"
      ]
    },
    {
      "cell_type": "code",
      "execution_count": 194,
      "id": "be18a5d3",
      "metadata": {
        "id": "be18a5d3",
        "papermill": {
          "duration": null,
          "end_time": null,
          "exception": null,
          "start_time": null,
          "status": "pending"
        },
        "tags": []
      },
      "outputs": [],
      "source": [
        "def bow(sentence, words, show_details=True):\n",
        "\n",
        "# tokenize the pattern\n",
        "\n",
        "  sentence_words = clean_up_sentence(sentence)\n",
        "  #print(sentence_words)\n",
        "\n",
        "  # bag of words - matrix of N words, vocabulary matrix\n",
        "\n",
        "  bag = [0]*len(words)\n",
        "  #print(bag)\n",
        "\n",
        "  for s in sentence_words:\n",
        "      for i,w in enumerate(words):\n",
        "          if w == s:\n",
        "              # assign 1 if current word is in the vocabulary position\n",
        "              bag[i] = 1\n",
        "              if show_details:\n",
        "                  print (\"found in bag: %s\" % w)\n",
        "              #print (\"found in bag: %s\" % w)\n",
        "  #print(bag)\n",
        "  return(np.array(bag))"
      ]
    },
    {
      "cell_type": "code",
      "execution_count": 195,
      "id": "f59d45fb",
      "metadata": {
        "id": "f59d45fb",
        "papermill": {
          "duration": null,
          "end_time": null,
          "exception": null,
          "start_time": null,
          "status": "pending"
        },
        "tags": []
      },
      "outputs": [],
      "source": [
        "def predict_class(sentence, model):\n",
        "\n",
        "  # filter out predictions below a threshold\n",
        "\n",
        "  p = bow(sentence, words,show_details=False)\n",
        "  #print(p)\n",
        "\n",
        "  res = model.predict(np.array([p]))[0]\n",
        "  #print(res)\n",
        "\n",
        "  ERROR_THRESHOLD = 0.25\n",
        "\n",
        "  results = [[i,r] for i,r in enumerate(res) if r>ERROR_THRESHOLD]\n",
        "  #print(results)\n",
        "  # sort by strength of probability\n",
        "\n",
        "  results.sort(key=lambda x: x[1], reverse=True)\n",
        "  #print(results)\n",
        "\n",
        "  return_list = []\n",
        "\n",
        "  for r in results:\n",
        "      return_list.append({\"intent\": classes[r[0]], \"probability\": str(r[1])})\n",
        "\n",
        "  return return_list\n",
        "  #print(return_list)"
      ]
    },
    {
      "cell_type": "code",
      "execution_count": 196,
      "id": "412ed78d",
      "metadata": {
        "id": "412ed78d",
        "papermill": {
          "duration": null,
          "end_time": null,
          "exception": null,
          "start_time": null,
          "status": "pending"
        },
        "tags": []
      },
      "outputs": [],
      "source": [
        "def getResponse(ints, intents_json):\n",
        "\n",
        "  tag = ints[0]['intent']\n",
        "  #print(tag)\n",
        "\n",
        "  list_of_intents = intents_json['intents']\n",
        "  #print(list_of_intents)\n",
        "\n",
        "  for i in list_of_intents:\n",
        "      if(i['tag']== tag):\n",
        "          result = random.choice(i['responses'])\n",
        "          break\n",
        "  return result\n",
        "\n",
        "\n",
        "\n"
      ]
    },
    {
      "cell_type": "code",
      "execution_count": 197,
      "id": "3dbe5ff0",
      "metadata": {
        "id": "3dbe5ff0",
        "papermill": {
          "duration": null,
          "end_time": null,
          "exception": null,
          "start_time": null,
          "status": "pending"
        },
        "tags": []
      },
      "outputs": [],
      "source": [
        "def chatbot_response(text):\n",
        "  ints = predict_class(text, model)\n",
        "\n",
        "  #print(ints)\n",
        "\n",
        "  res = getResponse(ints, intents)\n",
        "  #print(res)\n",
        "  return res"
      ]
    },
    {
      "cell_type": "markdown",
      "id": "4cac6e3a",
      "metadata": {
        "id": "4cac6e3a",
        "papermill": {
          "duration": null,
          "end_time": null,
          "exception": null,
          "start_time": null,
          "status": "pending"
        },
        "tags": []
      },
      "source": [
        "# Predicting results"
      ]
    },
    {
      "cell_type": "markdown",
      "id": "282492c6",
      "metadata": {
        "id": "282492c6",
        "papermill": {
          "duration": null,
          "end_time": null,
          "exception": null,
          "start_time": null,
          "status": "pending"
        },
        "tags": []
      },
      "source": [
        "i# Text to Text"
      ]
    },
    {
      "cell_type": "code",
      "execution_count": 199,
      "id": "8a1d984d",
      "metadata": {
        "id": "8a1d984d",
        "papermill": {
          "duration": null,
          "end_time": null,
          "exception": null,
          "start_time": null,
          "status": "pending"
        },
        "tags": [],
        "colab": {
          "base_uri": "https://localhost:8080/",
          "height": 555
        },
        "outputId": "715af433-ce53-4688-8ff3-3bdf49b897ce"
      },
      "outputs": [
        {
          "output_type": "stream",
          "name": "stdout",
          "text": [
            "Enter Message:hi\n",
            "1/1 [==============================] - 0s 33ms/step\n",
            "Hello! How can I assist you with Medical Assistance today?\n",
            "Enter Message:cancer\n",
            "1/1 [==============================] - 0s 23ms/step\n",
            "You may need to rephrase your question.\n",
            "Enter Message:im having fever\n",
            "1/1 [==============================] - 0s 19ms/step\n",
            "Stay hydrated and rest. Over-the-counter medications like acetaminophen or ibuprofen can help reduce fever. If the fever is very high or lasts more than a couple of days, consult a doctor.\n"
          ]
        },
        {
          "output_type": "error",
          "ename": "KeyboardInterrupt",
          "evalue": "Interrupted by user",
          "traceback": [
            "\u001b[0;31m---------------------------------------------------------------------------\u001b[0m",
            "\u001b[0;31mKeyboardInterrupt\u001b[0m                         Traceback (most recent call last)",
            "\u001b[0;32m<ipython-input-199-4fb68358ca63>\u001b[0m in \u001b[0;36m<cell line: 2>\u001b[0;34m()\u001b[0m\n\u001b[1;32m      2\u001b[0m \u001b[0;32mwhile\u001b[0m \u001b[0mstart\u001b[0m\u001b[0;34m:\u001b[0m\u001b[0;34m\u001b[0m\u001b[0;34m\u001b[0m\u001b[0m\n\u001b[1;32m      3\u001b[0m \u001b[0;34m\u001b[0m\u001b[0m\n\u001b[0;32m----> 4\u001b[0;31m   \u001b[0mquery\u001b[0m \u001b[0;34m=\u001b[0m \u001b[0minput\u001b[0m\u001b[0;34m(\u001b[0m\u001b[0;34m'Enter Message:'\u001b[0m\u001b[0;34m)\u001b[0m\u001b[0;34m\u001b[0m\u001b[0;34m\u001b[0m\u001b[0m\n\u001b[0m\u001b[1;32m      5\u001b[0m   \u001b[0;32mif\u001b[0m \u001b[0mquery\u001b[0m \u001b[0;32min\u001b[0m \u001b[0;34m[\u001b[0m\u001b[0;34m'quit'\u001b[0m\u001b[0;34m,\u001b[0m\u001b[0;34m'exit'\u001b[0m\u001b[0;34m,\u001b[0m\u001b[0;34m'bye'\u001b[0m\u001b[0;34m]\u001b[0m\u001b[0;34m:\u001b[0m\u001b[0;34m\u001b[0m\u001b[0;34m\u001b[0m\u001b[0m\n\u001b[1;32m      6\u001b[0m       \u001b[0mstart\u001b[0m \u001b[0;34m=\u001b[0m \u001b[0;32mFalse\u001b[0m\u001b[0;34m\u001b[0m\u001b[0;34m\u001b[0m\u001b[0m\n",
            "\u001b[0;32m/usr/local/lib/python3.10/dist-packages/ipykernel/kernelbase.py\u001b[0m in \u001b[0;36mraw_input\u001b[0;34m(self, prompt)\u001b[0m\n\u001b[1;32m    849\u001b[0m                 \u001b[0;34m\"raw_input was called, but this frontend does not support input requests.\"\u001b[0m\u001b[0;34m\u001b[0m\u001b[0;34m\u001b[0m\u001b[0m\n\u001b[1;32m    850\u001b[0m             )\n\u001b[0;32m--> 851\u001b[0;31m         return self._input_request(str(prompt),\n\u001b[0m\u001b[1;32m    852\u001b[0m             \u001b[0mself\u001b[0m\u001b[0;34m.\u001b[0m\u001b[0m_parent_ident\u001b[0m\u001b[0;34m,\u001b[0m\u001b[0;34m\u001b[0m\u001b[0;34m\u001b[0m\u001b[0m\n\u001b[1;32m    853\u001b[0m             \u001b[0mself\u001b[0m\u001b[0;34m.\u001b[0m\u001b[0m_parent_header\u001b[0m\u001b[0;34m,\u001b[0m\u001b[0;34m\u001b[0m\u001b[0;34m\u001b[0m\u001b[0m\n",
            "\u001b[0;32m/usr/local/lib/python3.10/dist-packages/ipykernel/kernelbase.py\u001b[0m in \u001b[0;36m_input_request\u001b[0;34m(self, prompt, ident, parent, password)\u001b[0m\n\u001b[1;32m    893\u001b[0m             \u001b[0;32mexcept\u001b[0m \u001b[0mKeyboardInterrupt\u001b[0m\u001b[0;34m:\u001b[0m\u001b[0;34m\u001b[0m\u001b[0;34m\u001b[0m\u001b[0m\n\u001b[1;32m    894\u001b[0m                 \u001b[0;31m# re-raise KeyboardInterrupt, to truncate traceback\u001b[0m\u001b[0;34m\u001b[0m\u001b[0;34m\u001b[0m\u001b[0m\n\u001b[0;32m--> 895\u001b[0;31m                 \u001b[0;32mraise\u001b[0m \u001b[0mKeyboardInterrupt\u001b[0m\u001b[0;34m(\u001b[0m\u001b[0;34m\"Interrupted by user\"\u001b[0m\u001b[0;34m)\u001b[0m \u001b[0;32mfrom\u001b[0m \u001b[0;32mNone\u001b[0m\u001b[0;34m\u001b[0m\u001b[0;34m\u001b[0m\u001b[0m\n\u001b[0m\u001b[1;32m    896\u001b[0m             \u001b[0;32mexcept\u001b[0m \u001b[0mException\u001b[0m \u001b[0;32mas\u001b[0m \u001b[0me\u001b[0m\u001b[0;34m:\u001b[0m\u001b[0;34m\u001b[0m\u001b[0;34m\u001b[0m\u001b[0m\n\u001b[1;32m    897\u001b[0m                 \u001b[0mself\u001b[0m\u001b[0;34m.\u001b[0m\u001b[0mlog\u001b[0m\u001b[0;34m.\u001b[0m\u001b[0mwarning\u001b[0m\u001b[0;34m(\u001b[0m\u001b[0;34m\"Invalid Message:\"\u001b[0m\u001b[0;34m,\u001b[0m \u001b[0mexc_info\u001b[0m\u001b[0;34m=\u001b[0m\u001b[0;32mTrue\u001b[0m\u001b[0;34m)\u001b[0m\u001b[0;34m\u001b[0m\u001b[0;34m\u001b[0m\u001b[0m\n",
            "\u001b[0;31mKeyboardInterrupt\u001b[0m: Interrupted by user"
          ]
        }
      ],
      "source": [
        "start = True\n",
        "while start:\n",
        "\n",
        "  query = input('Enter Message:')\n",
        "  if query in ['quit','exit','bye']:\n",
        "      start = False\n",
        "      continue\n",
        "  try:\n",
        "      res = chatbot_response(query)\n",
        "      print(res)\n",
        "  except:\n",
        "      print('You may need to rephrase your question.')"
      ]
    },
    {
      "cell_type": "markdown",
      "id": "193bdc5a",
      "metadata": {
        "id": "193bdc5a",
        "papermill": {
          "duration": null,
          "end_time": null,
          "exception": null,
          "start_time": null,
          "status": "pending"
        },
        "tags": []
      },
      "source": [
        "# Text to Voice & Text"
      ]
    },
    {
      "cell_type": "code",
      "execution_count": 135,
      "id": "92ee3d2c",
      "metadata": {
        "id": "92ee3d2c",
        "colab": {
          "base_uri": "https://localhost:8080/"
        },
        "outputId": "5f03a836-565b-409a-8576-f528a51082c1"
      },
      "outputs": [
        {
          "output_type": "stream",
          "name": "stdout",
          "text": [
            "Requirement already satisfied: gtts in /usr/local/lib/python3.10/dist-packages (2.5.2)\n",
            "Requirement already satisfied: requests<3,>=2.27 in /usr/local/lib/python3.10/dist-packages (from gtts) (2.31.0)\n",
            "Requirement already satisfied: click<8.2,>=7.1 in /usr/local/lib/python3.10/dist-packages (from gtts) (8.1.7)\n",
            "Requirement already satisfied: charset-normalizer<4,>=2 in /usr/local/lib/python3.10/dist-packages (from requests<3,>=2.27->gtts) (3.3.2)\n",
            "Requirement already satisfied: idna<4,>=2.5 in /usr/local/lib/python3.10/dist-packages (from requests<3,>=2.27->gtts) (3.7)\n",
            "Requirement already satisfied: urllib3<3,>=1.21.1 in /usr/local/lib/python3.10/dist-packages (from requests<3,>=2.27->gtts) (2.0.7)\n",
            "Requirement already satisfied: certifi>=2017.4.17 in /usr/local/lib/python3.10/dist-packages (from requests<3,>=2.27->gtts) (2024.7.4)\n"
          ]
        }
      ],
      "source": [
        "pip install gtts"
      ]
    },
    {
      "cell_type": "code",
      "source": [
        "from gtts import gTTS\n",
        "from IPython.display import Audio, display\n",
        "\n",
        "\n",
        "for _ in range(5):\n",
        "    query = input('Enter Message: ')\n",
        "    print(\"f\")\n",
        "    if query.lower() in ['quit', 'exit', 'bye']:\n",
        "        start = False\n",
        "        continue\n",
        "\n",
        "\n",
        "    res = chatbot_response(query)\n",
        "    print(res)\n",
        "\n",
        "    # Convert the response to speech\n",
        "    tts = gTTS(text=res, lang='en')\n",
        "    tts.save(\"response.mp3\")\n",
        "    while True:\n",
        "      # Play the response without autoplay\n",
        "      audio = Audio(\"response.mp3\")\n",
        "      display(audio)\n",
        "      break"
      ],
      "metadata": {
        "colab": {
          "base_uri": "https://localhost:8080/",
          "height": 502
        },
        "id": "g9d7CVkka87h",
        "outputId": "bb5b0f21-ce63-4fa6-b723-ef21220f2e19"
      },
      "id": "g9d7CVkka87h",
      "execution_count": 218,
      "outputs": [
        {
          "output_type": "stream",
          "name": "stdout",
          "text": [
            "Enter Message: hi\n",
            "f\n",
            "1/1 [==============================] - 0s 21ms/step\n",
            "Hello! How can I assist you with Medical Assistance today?\n"
          ]
        },
        {
          "output_type": "display_data",
          "data": {
            "text/plain": [
              "<IPython.lib.display.Audio object>"
            ],
            "text/html": [
              "\n",
              "                <audio  controls=\"controls\" >\n",
              "                    <source src=\"data:audio/mpeg;base64,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\" type=\"audio/mpeg\" />\n",
              "                    Your browser does not support the audio element.\n",
              "                </audio>\n",
              "              "
            ]
          },
          "metadata": {}
        },
        {
          "output_type": "error",
          "ename": "KeyboardInterrupt",
          "evalue": "Interrupted by user",
          "traceback": [
            "\u001b[0;31m---------------------------------------------------------------------------\u001b[0m",
            "\u001b[0;31mKeyboardInterrupt\u001b[0m                         Traceback (most recent call last)",
            "\u001b[0;32m<ipython-input-218-adbfd14b8f1e>\u001b[0m in \u001b[0;36m<cell line: 5>\u001b[0;34m()\u001b[0m\n\u001b[1;32m      4\u001b[0m \u001b[0;34m\u001b[0m\u001b[0m\n\u001b[1;32m      5\u001b[0m \u001b[0;32mfor\u001b[0m \u001b[0m_\u001b[0m \u001b[0;32min\u001b[0m \u001b[0mrange\u001b[0m\u001b[0;34m(\u001b[0m\u001b[0;36m5\u001b[0m\u001b[0;34m)\u001b[0m\u001b[0;34m:\u001b[0m\u001b[0;34m\u001b[0m\u001b[0;34m\u001b[0m\u001b[0m\n\u001b[0;32m----> 6\u001b[0;31m     \u001b[0mquery\u001b[0m \u001b[0;34m=\u001b[0m \u001b[0minput\u001b[0m\u001b[0;34m(\u001b[0m\u001b[0;34m'Enter Message: '\u001b[0m\u001b[0;34m)\u001b[0m\u001b[0;34m\u001b[0m\u001b[0;34m\u001b[0m\u001b[0m\n\u001b[0m\u001b[1;32m      7\u001b[0m     \u001b[0mprint\u001b[0m\u001b[0;34m(\u001b[0m\u001b[0;34m\"f\"\u001b[0m\u001b[0;34m)\u001b[0m\u001b[0;34m\u001b[0m\u001b[0;34m\u001b[0m\u001b[0m\n\u001b[1;32m      8\u001b[0m     \u001b[0;32mif\u001b[0m \u001b[0mquery\u001b[0m\u001b[0;34m.\u001b[0m\u001b[0mlower\u001b[0m\u001b[0;34m(\u001b[0m\u001b[0;34m)\u001b[0m \u001b[0;32min\u001b[0m \u001b[0;34m[\u001b[0m\u001b[0;34m'quit'\u001b[0m\u001b[0;34m,\u001b[0m \u001b[0;34m'exit'\u001b[0m\u001b[0;34m,\u001b[0m \u001b[0;34m'bye'\u001b[0m\u001b[0;34m]\u001b[0m\u001b[0;34m:\u001b[0m\u001b[0;34m\u001b[0m\u001b[0;34m\u001b[0m\u001b[0m\n",
            "\u001b[0;32m/usr/local/lib/python3.10/dist-packages/ipykernel/kernelbase.py\u001b[0m in \u001b[0;36mraw_input\u001b[0;34m(self, prompt)\u001b[0m\n\u001b[1;32m    849\u001b[0m                 \u001b[0;34m\"raw_input was called, but this frontend does not support input requests.\"\u001b[0m\u001b[0;34m\u001b[0m\u001b[0;34m\u001b[0m\u001b[0m\n\u001b[1;32m    850\u001b[0m             )\n\u001b[0;32m--> 851\u001b[0;31m         return self._input_request(str(prompt),\n\u001b[0m\u001b[1;32m    852\u001b[0m             \u001b[0mself\u001b[0m\u001b[0;34m.\u001b[0m\u001b[0m_parent_ident\u001b[0m\u001b[0;34m,\u001b[0m\u001b[0;34m\u001b[0m\u001b[0;34m\u001b[0m\u001b[0m\n\u001b[1;32m    853\u001b[0m             \u001b[0mself\u001b[0m\u001b[0;34m.\u001b[0m\u001b[0m_parent_header\u001b[0m\u001b[0;34m,\u001b[0m\u001b[0;34m\u001b[0m\u001b[0;34m\u001b[0m\u001b[0m\n",
            "\u001b[0;32m/usr/local/lib/python3.10/dist-packages/ipykernel/kernelbase.py\u001b[0m in \u001b[0;36m_input_request\u001b[0;34m(self, prompt, ident, parent, password)\u001b[0m\n\u001b[1;32m    893\u001b[0m             \u001b[0;32mexcept\u001b[0m \u001b[0mKeyboardInterrupt\u001b[0m\u001b[0;34m:\u001b[0m\u001b[0;34m\u001b[0m\u001b[0;34m\u001b[0m\u001b[0m\n\u001b[1;32m    894\u001b[0m                 \u001b[0;31m# re-raise KeyboardInterrupt, to truncate traceback\u001b[0m\u001b[0;34m\u001b[0m\u001b[0;34m\u001b[0m\u001b[0m\n\u001b[0;32m--> 895\u001b[0;31m                 \u001b[0;32mraise\u001b[0m \u001b[0mKeyboardInterrupt\u001b[0m\u001b[0;34m(\u001b[0m\u001b[0;34m\"Interrupted by user\"\u001b[0m\u001b[0;34m)\u001b[0m \u001b[0;32mfrom\u001b[0m \u001b[0;32mNone\u001b[0m\u001b[0;34m\u001b[0m\u001b[0;34m\u001b[0m\u001b[0m\n\u001b[0m\u001b[1;32m    896\u001b[0m             \u001b[0;32mexcept\u001b[0m \u001b[0mException\u001b[0m \u001b[0;32mas\u001b[0m \u001b[0me\u001b[0m\u001b[0;34m:\u001b[0m\u001b[0;34m\u001b[0m\u001b[0;34m\u001b[0m\u001b[0m\n\u001b[1;32m    897\u001b[0m                 \u001b[0mself\u001b[0m\u001b[0;34m.\u001b[0m\u001b[0mlog\u001b[0m\u001b[0;34m.\u001b[0m\u001b[0mwarning\u001b[0m\u001b[0;34m(\u001b[0m\u001b[0;34m\"Invalid Message:\"\u001b[0m\u001b[0;34m,\u001b[0m \u001b[0mexc_info\u001b[0m\u001b[0;34m=\u001b[0m\u001b[0;32mTrue\u001b[0m\u001b[0;34m)\u001b[0m\u001b[0;34m\u001b[0m\u001b[0;34m\u001b[0m\u001b[0m\n",
            "\u001b[0;31mKeyboardInterrupt\u001b[0m: Interrupted by user"
          ]
        }
      ]
    },
    {
      "cell_type": "code",
      "execution_count": 207,
      "id": "1a5ace6e",
      "metadata": {
        "id": "1a5ace6e",
        "outputId": "719be530-2800-4030-d64b-c54b3d25e6fe",
        "papermill": {
          "duration": null,
          "end_time": null,
          "exception": null,
          "start_time": null,
          "status": "pending"
        },
        "tags": [],
        "colab": {
          "base_uri": "https://localhost:8080/",
          "height": 520
        }
      },
      "outputs": [
        {
          "output_type": "stream",
          "name": "stderr",
          "text": [
            "[nltk_data] Downloading package punkt to /root/nltk_data...\n",
            "[nltk_data]   Package punkt is already up-to-date!\n"
          ]
        },
        {
          "output_type": "stream",
          "name": "stdout",
          "text": [
            "Enter Message:hi\n",
            "1/1 [==============================] - 0s 21ms/step\n",
            "Hello! How can I assist you with Medical Assistance today?\n"
          ]
        },
        {
          "output_type": "display_data",
          "data": {
            "text/plain": [
              "<IPython.lib.display.Audio object>"
            ],
            "text/html": [
              "\n",
              "                <audio  controls=\"controls\" autoplay=\"autoplay\">\n",
              "                    <source src=\"data:audio/mpeg;base64,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\" type=\"audio/mpeg\" />\n",
              "                    Your browser does not support the audio element.\n",
              "                </audio>\n",
              "              "
            ]
          },
          "metadata": {}
        },
        {
          "output_type": "error",
          "ename": "KeyboardInterrupt",
          "evalue": "Interrupted by user",
          "traceback": [
            "\u001b[0;31m---------------------------------------------------------------------------\u001b[0m",
            "\u001b[0;31mKeyboardInterrupt\u001b[0m                         Traceback (most recent call last)",
            "\u001b[0;32m<ipython-input-207-7fb8cf76b45f>\u001b[0m in \u001b[0;36m<cell line: 21>\u001b[0;34m()\u001b[0m\n\u001b[1;32m     20\u001b[0m \u001b[0mstart\u001b[0m \u001b[0;34m=\u001b[0m \u001b[0;32mTrue\u001b[0m\u001b[0;34m\u001b[0m\u001b[0;34m\u001b[0m\u001b[0m\n\u001b[1;32m     21\u001b[0m \u001b[0;32mwhile\u001b[0m \u001b[0mstart\u001b[0m\u001b[0;34m:\u001b[0m\u001b[0;34m\u001b[0m\u001b[0;34m\u001b[0m\u001b[0m\n\u001b[0;32m---> 22\u001b[0;31m     \u001b[0mquery\u001b[0m \u001b[0;34m=\u001b[0m \u001b[0minput\u001b[0m\u001b[0;34m(\u001b[0m\u001b[0;34m'Enter Message:'\u001b[0m\u001b[0;34m)\u001b[0m\u001b[0;34m\u001b[0m\u001b[0;34m\u001b[0m\u001b[0m\n\u001b[0m\u001b[1;32m     23\u001b[0m     \u001b[0;32mif\u001b[0m \u001b[0mquery\u001b[0m\u001b[0;34m.\u001b[0m\u001b[0mlower\u001b[0m\u001b[0;34m(\u001b[0m\u001b[0;34m)\u001b[0m \u001b[0;32min\u001b[0m \u001b[0;34m[\u001b[0m\u001b[0;34m'quit'\u001b[0m\u001b[0;34m,\u001b[0m \u001b[0;34m'exit'\u001b[0m\u001b[0;34m,\u001b[0m \u001b[0;34m'bye'\u001b[0m\u001b[0;34m]\u001b[0m\u001b[0;34m:\u001b[0m\u001b[0;34m\u001b[0m\u001b[0;34m\u001b[0m\u001b[0m\n\u001b[1;32m     24\u001b[0m         \u001b[0mstart\u001b[0m \u001b[0;34m=\u001b[0m \u001b[0;32mFalse\u001b[0m\u001b[0;34m\u001b[0m\u001b[0;34m\u001b[0m\u001b[0m\n",
            "\u001b[0;32m/usr/local/lib/python3.10/dist-packages/ipykernel/kernelbase.py\u001b[0m in \u001b[0;36mraw_input\u001b[0;34m(self, prompt)\u001b[0m\n\u001b[1;32m    849\u001b[0m                 \u001b[0;34m\"raw_input was called, but this frontend does not support input requests.\"\u001b[0m\u001b[0;34m\u001b[0m\u001b[0;34m\u001b[0m\u001b[0m\n\u001b[1;32m    850\u001b[0m             )\n\u001b[0;32m--> 851\u001b[0;31m         return self._input_request(str(prompt),\n\u001b[0m\u001b[1;32m    852\u001b[0m             \u001b[0mself\u001b[0m\u001b[0;34m.\u001b[0m\u001b[0m_parent_ident\u001b[0m\u001b[0;34m,\u001b[0m\u001b[0;34m\u001b[0m\u001b[0;34m\u001b[0m\u001b[0m\n\u001b[1;32m    853\u001b[0m             \u001b[0mself\u001b[0m\u001b[0;34m.\u001b[0m\u001b[0m_parent_header\u001b[0m\u001b[0;34m,\u001b[0m\u001b[0;34m\u001b[0m\u001b[0;34m\u001b[0m\u001b[0m\n",
            "\u001b[0;32m/usr/local/lib/python3.10/dist-packages/ipykernel/kernelbase.py\u001b[0m in \u001b[0;36m_input_request\u001b[0;34m(self, prompt, ident, parent, password)\u001b[0m\n\u001b[1;32m    893\u001b[0m             \u001b[0;32mexcept\u001b[0m \u001b[0mKeyboardInterrupt\u001b[0m\u001b[0;34m:\u001b[0m\u001b[0;34m\u001b[0m\u001b[0;34m\u001b[0m\u001b[0m\n\u001b[1;32m    894\u001b[0m                 \u001b[0;31m# re-raise KeyboardInterrupt, to truncate traceback\u001b[0m\u001b[0;34m\u001b[0m\u001b[0;34m\u001b[0m\u001b[0m\n\u001b[0;32m--> 895\u001b[0;31m                 \u001b[0;32mraise\u001b[0m \u001b[0mKeyboardInterrupt\u001b[0m\u001b[0;34m(\u001b[0m\u001b[0;34m\"Interrupted by user\"\u001b[0m\u001b[0;34m)\u001b[0m \u001b[0;32mfrom\u001b[0m \u001b[0;32mNone\u001b[0m\u001b[0;34m\u001b[0m\u001b[0;34m\u001b[0m\u001b[0m\n\u001b[0m\u001b[1;32m    896\u001b[0m             \u001b[0;32mexcept\u001b[0m \u001b[0mException\u001b[0m \u001b[0;32mas\u001b[0m \u001b[0me\u001b[0m\u001b[0;34m:\u001b[0m\u001b[0;34m\u001b[0m\u001b[0;34m\u001b[0m\u001b[0m\n\u001b[1;32m    897\u001b[0m                 \u001b[0mself\u001b[0m\u001b[0;34m.\u001b[0m\u001b[0mlog\u001b[0m\u001b[0;34m.\u001b[0m\u001b[0mwarning\u001b[0m\u001b[0;34m(\u001b[0m\u001b[0;34m\"Invalid Message:\"\u001b[0m\u001b[0;34m,\u001b[0m \u001b[0mexc_info\u001b[0m\u001b[0;34m=\u001b[0m\u001b[0;32mTrue\u001b[0m\u001b[0;34m)\u001b[0m\u001b[0;34m\u001b[0m\u001b[0;34m\u001b[0m\u001b[0m\n",
            "\u001b[0;31mKeyboardInterrupt\u001b[0m: Interrupted by user"
          ]
        }
      ],
      "source": [
        "import nltk\n",
        "nltk.download('punkt')  # Sentence tokenizer\n",
        "import nltk\n",
        "from nltk.stem import WordNetLemmatizer\n",
        "import json\n",
        "import pickle\n",
        "import warnings\n",
        "warnings.filterwarnings('ignore')\n",
        "import numpy as np\n",
        "import tensorflow as tf\n",
        "from keras.models import Sequential\n",
        "from keras.layers import Dense, Activation, Dropout\n",
        "from tensorflow.keras.optimizers import SGD\n",
        "import random\n",
        "from gtts import gTTS\n",
        "from IPython.display import Audio, display\n",
        "\n",
        "# Your existing code...\n",
        "\n",
        "start = True\n",
        "while start:\n",
        "    query = input('Enter Message:')\n",
        "    if query.lower() in ['quit', 'exit', 'bye']:\n",
        "        start = False\n",
        "        continue\n",
        "\n",
        "    try:\n",
        "        res = chatbot_response(query)\n",
        "        print(res)\n",
        "\n",
        "        # Convert the response to speech\n",
        "        tts = gTTS(text=res, lang='en')\n",
        "        tts.save(\"response.mp3\")\n",
        "\n",
        "        # Play the response\n",
        "        display(Audio(filename=\"response.mp3\", autoplay=True))\n",
        "        continue\n",
        "\n",
        "    except Exception as e:\n",
        "        print(f'Error: {e}')\n"
      ]
    },
    {
      "cell_type": "code",
      "execution_count": 166,
      "id": "6c610029",
      "metadata": {
        "id": "6c610029",
        "outputId": "850b1e7f-ff9a-459e-dcb0-2c71810a415e",
        "papermill": {
          "duration": null,
          "end_time": null,
          "exception": null,
          "start_time": null,
          "status": "pending"
        },
        "tags": [],
        "colab": {
          "base_uri": "https://localhost:8080/"
        }
      },
      "outputs": [
        {
          "output_type": "stream",
          "name": "stdout",
          "text": [
            "Collecting SpeechRecognition\n",
            "  Downloading SpeechRecognition-3.10.4-py2.py3-none-any.whl.metadata (28 kB)\n",
            "Requirement already satisfied: requests>=2.26.0 in /usr/local/lib/python3.10/dist-packages (from SpeechRecognition) (2.31.0)\n",
            "Requirement already satisfied: typing-extensions in /usr/local/lib/python3.10/dist-packages (from SpeechRecognition) (4.12.2)\n",
            "Requirement already satisfied: charset-normalizer<4,>=2 in /usr/local/lib/python3.10/dist-packages (from requests>=2.26.0->SpeechRecognition) (3.3.2)\n",
            "Requirement already satisfied: idna<4,>=2.5 in /usr/local/lib/python3.10/dist-packages (from requests>=2.26.0->SpeechRecognition) (3.7)\n",
            "Requirement already satisfied: urllib3<3,>=1.21.1 in /usr/local/lib/python3.10/dist-packages (from requests>=2.26.0->SpeechRecognition) (2.0.7)\n",
            "Requirement already satisfied: certifi>=2017.4.17 in /usr/local/lib/python3.10/dist-packages (from requests>=2.26.0->SpeechRecognition) (2024.7.4)\n",
            "Downloading SpeechRecognition-3.10.4-py2.py3-none-any.whl (32.8 MB)\n",
            "\u001b[2K   \u001b[90m━━━━━━━━━━━━━━━━━━━━━━━━━━━━━━━━━━━━━━━━\u001b[0m \u001b[32m32.8/32.8 MB\u001b[0m \u001b[31m30.9 MB/s\u001b[0m eta \u001b[36m0:00:00\u001b[0m\n",
            "\u001b[?25hInstalling collected packages: SpeechRecognition\n",
            "Successfully installed SpeechRecognition-3.10.4\n"
          ]
        }
      ],
      "source": [
        "!pip install SpeechRecognition"
      ]
    },
    {
      "cell_type": "code",
      "execution_count": 167,
      "id": "7e6a5089",
      "metadata": {
        "id": "7e6a5089",
        "outputId": "ec4f56b4-246b-46ed-c519-85270f716149",
        "papermill": {
          "duration": null,
          "end_time": null,
          "exception": null,
          "start_time": null,
          "status": "pending"
        },
        "tags": [],
        "colab": {
          "base_uri": "https://localhost:8080/"
        }
      },
      "outputs": [
        {
          "output_type": "stream",
          "name": "stdout",
          "text": [
            "Reading package lists... Done\n",
            "Building dependency tree... Done\n",
            "Reading state information... Done\n",
            "Note, selecting 'libasound2-dev' instead of 'libasound-dev'\n",
            "libasound2-dev is already the newest version (1.2.6.1-1ubuntu1).\n",
            "Suggested packages:\n",
            "  portaudio19-doc\n",
            "The following NEW packages will be installed:\n",
            "  libportaudio2 libportaudiocpp0 portaudio19-dev\n",
            "0 upgraded, 3 newly installed, 0 to remove and 45 not upgraded.\n",
            "Need to get 188 kB of archives.\n",
            "After this operation, 927 kB of additional disk space will be used.\n",
            "Get:1 http://archive.ubuntu.com/ubuntu jammy/universe amd64 libportaudio2 amd64 19.6.0-1.1 [65.3 kB]\n",
            "Get:2 http://archive.ubuntu.com/ubuntu jammy/universe amd64 libportaudiocpp0 amd64 19.6.0-1.1 [16.1 kB]\n",
            "Get:3 http://archive.ubuntu.com/ubuntu jammy/universe amd64 portaudio19-dev amd64 19.6.0-1.1 [106 kB]\n",
            "Fetched 188 kB in 0s (604 kB/s)\n",
            "Selecting previously unselected package libportaudio2:amd64.\n",
            "(Reading database ... 123589 files and directories currently installed.)\n",
            "Preparing to unpack .../libportaudio2_19.6.0-1.1_amd64.deb ...\n",
            "Unpacking libportaudio2:amd64 (19.6.0-1.1) ...\n",
            "Selecting previously unselected package libportaudiocpp0:amd64.\n",
            "Preparing to unpack .../libportaudiocpp0_19.6.0-1.1_amd64.deb ...\n",
            "Unpacking libportaudiocpp0:amd64 (19.6.0-1.1) ...\n",
            "Selecting previously unselected package portaudio19-dev:amd64.\n",
            "Preparing to unpack .../portaudio19-dev_19.6.0-1.1_amd64.deb ...\n",
            "Unpacking portaudio19-dev:amd64 (19.6.0-1.1) ...\n",
            "Setting up libportaudio2:amd64 (19.6.0-1.1) ...\n",
            "Setting up libportaudiocpp0:amd64 (19.6.0-1.1) ...\n",
            "Setting up portaudio19-dev:amd64 (19.6.0-1.1) ...\n",
            "Processing triggers for libc-bin (2.35-0ubuntu3.4) ...\n",
            "/sbin/ldconfig.real: /usr/local/lib/libtbbbind_2_5.so.3 is not a symbolic link\n",
            "\n",
            "/sbin/ldconfig.real: /usr/local/lib/libtbbbind.so.3 is not a symbolic link\n",
            "\n",
            "/sbin/ldconfig.real: /usr/local/lib/libtbbmalloc_proxy.so.2 is not a symbolic link\n",
            "\n",
            "/sbin/ldconfig.real: /usr/local/lib/libtbbmalloc.so.2 is not a symbolic link\n",
            "\n",
            "/sbin/ldconfig.real: /usr/local/lib/libtbbbind_2_0.so.3 is not a symbolic link\n",
            "\n",
            "/sbin/ldconfig.real: /usr/local/lib/libtbb.so.12 is not a symbolic link\n",
            "\n"
          ]
        }
      ],
      "source": [
        "!apt-get install -y libasound-dev portaudio19-dev libportaudio2 libportaudiocpp0\n"
      ]
    },
    {
      "cell_type": "code",
      "execution_count": 168,
      "id": "e36b2638",
      "metadata": {
        "id": "e36b2638",
        "outputId": "952cf8c3-3540-42bd-c2c7-e3e63f49eb61",
        "papermill": {
          "duration": null,
          "end_time": null,
          "exception": null,
          "start_time": null,
          "status": "pending"
        },
        "tags": [],
        "colab": {
          "base_uri": "https://localhost:8080/"
        }
      },
      "outputs": [
        {
          "output_type": "stream",
          "name": "stdout",
          "text": [
            "Collecting pyaudio\n",
            "  Downloading PyAudio-0.2.14.tar.gz (47 kB)\n",
            "\u001b[?25l     \u001b[90m━━━━━━━━━━━━━━━━━━━━━━━━━━━━━━━━━━━━━━━━\u001b[0m \u001b[32m0.0/47.1 kB\u001b[0m \u001b[31m?\u001b[0m eta \u001b[36m-:--:--\u001b[0m\r\u001b[2K     \u001b[90m━━━━━━━━━━━━━━━━━━━━━━━━━━━━━━━━━━━━━━━━\u001b[0m \u001b[32m47.1/47.1 kB\u001b[0m \u001b[31m2.1 MB/s\u001b[0m eta \u001b[36m0:00:00\u001b[0m\n",
            "\u001b[?25h  Installing build dependencies ... \u001b[?25l\u001b[?25hdone\n",
            "  Getting requirements to build wheel ... \u001b[?25l\u001b[?25hdone\n",
            "  Preparing metadata (pyproject.toml) ... \u001b[?25l\u001b[?25hdone\n",
            "Building wheels for collected packages: pyaudio\n",
            "  Building wheel for pyaudio (pyproject.toml) ... \u001b[?25l\u001b[?25hdone\n",
            "  Created wheel for pyaudio: filename=PyAudio-0.2.14-cp310-cp310-linux_x86_64.whl size=63861 sha256=4f723d38d29c8c6c03dd154a900d8197902eb1aa6fff6a1d20a0787d7be559a7\n",
            "  Stored in directory: /root/.cache/pip/wheels/d6/21/f4/0b51d41ba79e51b16295cbb096ec49f334792814d545b508c5\n",
            "Successfully built pyaudio\n",
            "Installing collected packages: pyaudio\n",
            "Successfully installed pyaudio-0.2.14\n"
          ]
        }
      ],
      "source": [
        "pip install pyaudio"
      ]
    },
    {
      "cell_type": "code",
      "execution_count": 169,
      "id": "2007f41d",
      "metadata": {
        "id": "2007f41d",
        "outputId": "aa679bff-308b-4133-f34e-55b32ca05a5a",
        "papermill": {
          "duration": null,
          "end_time": null,
          "exception": null,
          "start_time": null,
          "status": "pending"
        },
        "tags": [],
        "colab": {
          "base_uri": "https://localhost:8080/"
        }
      },
      "outputs": [
        {
          "output_type": "stream",
          "name": "stdout",
          "text": [
            "[]\n"
          ]
        }
      ],
      "source": [
        "import speech_recognition as sr\n",
        "\n",
        "# Print the list of available audio input devices and their indices\n",
        "print(sr.Microphone.list_microphone_names())\n"
      ]
    },
    {
      "cell_type": "code",
      "execution_count": 170,
      "id": "7e65185c",
      "metadata": {
        "id": "7e65185c",
        "outputId": "bff92571-9d8d-4b7b-ca1f-01549fb0de1e",
        "papermill": {
          "duration": null,
          "end_time": null,
          "exception": null,
          "start_time": null,
          "status": "pending"
        },
        "tags": [],
        "colab": {
          "base_uri": "https://localhost:8080/"
        }
      },
      "outputs": [
        {
          "output_type": "stream",
          "name": "stdout",
          "text": [
            "Collecting pydub\n",
            "  Downloading pydub-0.25.1-py2.py3-none-any.whl.metadata (1.4 kB)\n",
            "Downloading pydub-0.25.1-py2.py3-none-any.whl (32 kB)\n",
            "Installing collected packages: pydub\n",
            "Successfully installed pydub-0.25.1\n"
          ]
        }
      ],
      "source": [
        "pip install pydub\n"
      ]
    },
    {
      "cell_type": "code",
      "execution_count": 188,
      "id": "f561164a",
      "metadata": {
        "id": "f561164a",
        "outputId": "d0fcf6ab-ec49-4ddc-c1fe-1211913ac568",
        "papermill": {
          "duration": null,
          "end_time": null,
          "exception": null,
          "start_time": null,
          "status": "pending"
        },
        "tags": [],
        "colab": {
          "base_uri": "https://localhost:8080/"
        }
      },
      "outputs": [
        {
          "output_type": "stream",
          "name": "stderr",
          "text": [
            "[nltk_data] Downloading package punkt to /root/nltk_data...\n",
            "[nltk_data]   Package punkt is already up-to-date!\n"
          ]
        }
      ],
      "source": [
        "import nltk\n",
        "nltk.download('punkt')  # Sentence tokenizer\n",
        "from nltk.stem import WordNetLemmatizer\n",
        "import json\n",
        "import pickle\n",
        "import warnings\n",
        "warnings.filterwarnings('ignore')\n",
        "import numpy as np\n",
        "import tensorflow as tf\n",
        "from keras.models import Sequential\n",
        "from keras.layers import Dense, Activation, Dropout\n",
        "from tensorflow.keras.optimizers import SGD\n",
        "import random\n",
        "from gtts import gTTS\n",
        "from IPython.display import Audio, display\n",
        "from pydub import AudioSegment\n",
        "from pydub.playback import play\n",
        "import speech_recognition as sr\n",
        "\n",
        "# Patch the speech_recognition library to use pydub for audio playback\n",
        "def patched_play_mp3(audio_file, start=0, end=None):\n",
        "    audio = AudioSegment.from_mp3(audio_file)\n",
        "    play(audio[start:end])\n",
        "\n",
        "sr.AudioFile.play_mp3 = patched_play_mp3\n",
        "\n",
        "# Your existing code...\n",
        "\n",
        "def get_voice_input():\n",
        "    recognizer = sr.Recognizer()\n",
        "    microphone = sr.Microphone()\n",
        "\n",
        "    with microphone as source:\n",
        "        print(\"Say something:\")\n",
        "        recognizer.adjust_for_ambient_noise(source)\n",
        "        audio = recognizer.listen(source, timeout=5)\n",
        "\n",
        "    try:\n",
        "        text = recognizer.recognize_google(audio)\n",
        "        print(\"You said:\", text)\n",
        "\n",
        "        # Convert the recognized text to an audio file\n",
        "        tts = gTTS(text=text, lang='en')\n",
        "        tts.save(\"input_audio.mp3\")\n",
        "\n",
        "        # Play the captured audio\n",
        "        play(AudioSegment.from_mp3(\"input_audio.mp3\"))\n",
        "\n",
        "        return \"input_audio.mp3\"\n",
        "\n",
        "    except sr.UnknownValueError:\n",
        "        print(\"Could not understand audio.\")\n",
        "        return None\n",
        "    except sr.RequestError as e:\n",
        "        print(f\"Error connecting to Google API: {e}\")\n",
        "        return None\n",
        "\n",
        "# The rest of your code...\n"
      ]
    },
    {
      "cell_type": "code",
      "execution_count": 172,
      "id": "d70c227c",
      "metadata": {
        "id": "d70c227c",
        "outputId": "3ea40def-e68c-481d-9c61-0bb89979a224",
        "papermill": {
          "duration": null,
          "end_time": null,
          "exception": null,
          "start_time": null,
          "status": "pending"
        },
        "tags": [],
        "colab": {
          "base_uri": "https://localhost:8080/"
        }
      },
      "outputs": [
        {
          "output_type": "stream",
          "name": "stdout",
          "text": [
            "Requirement already satisfied: pydub in /usr/local/lib/python3.10/dist-packages (0.25.1)\n",
            "Collecting sounddevice\n",
            "  Downloading sounddevice-0.4.7-py3-none-any.whl.metadata (1.4 kB)\n",
            "Requirement already satisfied: CFFI>=1.0 in /usr/local/lib/python3.10/dist-packages (from sounddevice) (1.16.0)\n",
            "Requirement already satisfied: pycparser in /usr/local/lib/python3.10/dist-packages (from CFFI>=1.0->sounddevice) (2.22)\n",
            "Downloading sounddevice-0.4.7-py3-none-any.whl (32 kB)\n",
            "Installing collected packages: sounddevice\n",
            "Successfully installed sounddevice-0.4.7\n"
          ]
        }
      ],
      "source": [
        "!pip install pydub sounddevice"
      ]
    },
    {
      "cell_type": "code",
      "execution_count": 173,
      "id": "4f18540f",
      "metadata": {
        "id": "4f18540f",
        "outputId": "31528756-d73a-4a0b-9f9e-ae6007ed6a39",
        "papermill": {
          "duration": null,
          "end_time": null,
          "exception": null,
          "start_time": null,
          "status": "pending"
        },
        "tags": [],
        "colab": {
          "base_uri": "https://localhost:8080/"
        }
      },
      "outputs": [
        {
          "output_type": "stream",
          "name": "stdout",
          "text": [
            "Collecting pyttsx3\n",
            "  Downloading pyttsx3-2.90-py3-none-any.whl.metadata (3.6 kB)\n",
            "Downloading pyttsx3-2.90-py3-none-any.whl (39 kB)\n",
            "Installing collected packages: pyttsx3\n",
            "Successfully installed pyttsx3-2.90\n"
          ]
        }
      ],
      "source": [
        "!pip install pyttsx3\n"
      ]
    },
    {
      "cell_type": "code",
      "execution_count": 174,
      "id": "e71e9e22",
      "metadata": {
        "id": "e71e9e22",
        "outputId": "fee7dcc4-3c71-4bcf-8aa0-e7cb28e76706",
        "papermill": {
          "duration": null,
          "end_time": null,
          "exception": null,
          "start_time": null,
          "status": "pending"
        },
        "tags": [],
        "colab": {
          "base_uri": "https://localhost:8080/"
        }
      },
      "outputs": [
        {
          "output_type": "stream",
          "name": "stdout",
          "text": [
            "Collecting ffmpeg-python\n",
            "  Downloading ffmpeg_python-0.2.0-py3-none-any.whl.metadata (1.7 kB)\n",
            "Requirement already satisfied: future in /usr/local/lib/python3.10/dist-packages (from ffmpeg-python) (0.18.3)\n",
            "Downloading ffmpeg_python-0.2.0-py3-none-any.whl (25 kB)\n",
            "Installing collected packages: ffmpeg-python\n",
            "Successfully installed ffmpeg-python-0.2.0\n"
          ]
        }
      ],
      "source": [
        "!pip install ffmpeg-python"
      ]
    },
    {
      "cell_type": "code",
      "execution_count": 175,
      "id": "07f63d57",
      "metadata": {
        "id": "07f63d57",
        "outputId": "358040cd-3c84-4a97-c78a-84fae882adc0",
        "papermill": {
          "duration": null,
          "end_time": null,
          "exception": null,
          "start_time": null,
          "status": "pending"
        },
        "tags": [],
        "colab": {
          "base_uri": "https://localhost:8080/"
        }
      },
      "outputs": [
        {
          "output_type": "stream",
          "name": "stdout",
          "text": [
            "Requirement already satisfied: SpeechRecognition in /usr/local/lib/python3.10/dist-packages (3.10.4)\n",
            "Requirement already satisfied: pydub in /usr/local/lib/python3.10/dist-packages (0.25.1)\n",
            "Requirement already satisfied: requests>=2.26.0 in /usr/local/lib/python3.10/dist-packages (from SpeechRecognition) (2.31.0)\n",
            "Requirement already satisfied: typing-extensions in /usr/local/lib/python3.10/dist-packages (from SpeechRecognition) (4.12.2)\n",
            "Requirement already satisfied: charset-normalizer<4,>=2 in /usr/local/lib/python3.10/dist-packages (from requests>=2.26.0->SpeechRecognition) (3.3.2)\n",
            "Requirement already satisfied: idna<4,>=2.5 in /usr/local/lib/python3.10/dist-packages (from requests>=2.26.0->SpeechRecognition) (3.7)\n",
            "Requirement already satisfied: urllib3<3,>=1.21.1 in /usr/local/lib/python3.10/dist-packages (from requests>=2.26.0->SpeechRecognition) (2.0.7)\n",
            "Requirement already satisfied: certifi>=2017.4.17 in /usr/local/lib/python3.10/dist-packages (from requests>=2.26.0->SpeechRecognition) (2024.7.4)\n"
          ]
        }
      ],
      "source": [
        "!pip install SpeechRecognition pydub"
      ]
    },
    {
      "cell_type": "code",
      "execution_count": 176,
      "id": "a29a8a80",
      "metadata": {
        "colab": {
          "base_uri": "https://localhost:8080/"
        },
        "id": "a29a8a80",
        "outputId": "2711b515-fbf0-410b-c4f5-5fe4c93a5ab8"
      },
      "outputs": [
        {
          "output_type": "stream",
          "name": "stdout",
          "text": [
            "Requirement already satisfied: google.colab in /usr/local/lib/python3.10/dist-packages (1.0.0)\n",
            "Requirement already satisfied: google-auth==2.27.0 in /usr/local/lib/python3.10/dist-packages (from google.colab) (2.27.0)\n",
            "Requirement already satisfied: ipykernel==5.5.6 in /usr/local/lib/python3.10/dist-packages (from google.colab) (5.5.6)\n",
            "Requirement already satisfied: ipyparallel==8.8.0 in /usr/local/lib/python3.10/dist-packages (from google.colab) (8.8.0)\n",
            "Requirement already satisfied: ipython==7.34.0 in /usr/local/lib/python3.10/dist-packages (from google.colab) (7.34.0)\n",
            "Requirement already satisfied: notebook==6.5.5 in /usr/local/lib/python3.10/dist-packages (from google.colab) (6.5.5)\n",
            "Requirement already satisfied: pandas==2.0.3 in /usr/local/lib/python3.10/dist-packages (from google.colab) (2.0.3)\n",
            "Requirement already satisfied: portpicker==1.5.2 in /usr/local/lib/python3.10/dist-packages (from google.colab) (1.5.2)\n",
            "Requirement already satisfied: requests==2.31.0 in /usr/local/lib/python3.10/dist-packages (from google.colab) (2.31.0)\n",
            "Requirement already satisfied: tornado==6.3.3 in /usr/local/lib/python3.10/dist-packages (from google.colab) (6.3.3)\n",
            "Requirement already satisfied: cachetools<6.0,>=2.0.0 in /usr/local/lib/python3.10/dist-packages (from google-auth==2.27.0->google.colab) (5.4.0)\n",
            "Requirement already satisfied: pyasn1-modules>=0.2.1 in /usr/local/lib/python3.10/dist-packages (from google-auth==2.27.0->google.colab) (0.4.0)\n",
            "Requirement already satisfied: rsa<5,>=3.1.4 in /usr/local/lib/python3.10/dist-packages (from google-auth==2.27.0->google.colab) (4.9)\n",
            "Requirement already satisfied: ipython-genutils in /usr/local/lib/python3.10/dist-packages (from ipykernel==5.5.6->google.colab) (0.2.0)\n",
            "Requirement already satisfied: traitlets>=4.1.0 in /usr/local/lib/python3.10/dist-packages (from ipykernel==5.5.6->google.colab) (5.7.1)\n",
            "Requirement already satisfied: jupyter-client in /usr/local/lib/python3.10/dist-packages (from ipykernel==5.5.6->google.colab) (6.1.12)\n",
            "Requirement already satisfied: decorator in /usr/local/lib/python3.10/dist-packages (from ipyparallel==8.8.0->google.colab) (4.4.2)\n",
            "Requirement already satisfied: entrypoints in /usr/local/lib/python3.10/dist-packages (from ipyparallel==8.8.0->google.colab) (0.4)\n",
            "Requirement already satisfied: psutil in /usr/local/lib/python3.10/dist-packages (from ipyparallel==8.8.0->google.colab) (5.9.5)\n",
            "Requirement already satisfied: python-dateutil>=2.1 in /usr/local/lib/python3.10/dist-packages (from ipyparallel==8.8.0->google.colab) (2.8.2)\n",
            "Requirement already satisfied: pyzmq>=18 in /usr/local/lib/python3.10/dist-packages (from ipyparallel==8.8.0->google.colab) (24.0.1)\n",
            "Requirement already satisfied: tqdm in /usr/local/lib/python3.10/dist-packages (from ipyparallel==8.8.0->google.colab) (4.66.4)\n",
            "Requirement already satisfied: setuptools>=18.5 in /usr/local/lib/python3.10/dist-packages (from ipython==7.34.0->google.colab) (71.0.4)\n",
            "Collecting jedi>=0.16 (from ipython==7.34.0->google.colab)\n",
            "  Downloading jedi-0.19.1-py2.py3-none-any.whl.metadata (22 kB)\n",
            "Requirement already satisfied: pickleshare in /usr/local/lib/python3.10/dist-packages (from ipython==7.34.0->google.colab) (0.7.5)\n",
            "Requirement already satisfied: prompt-toolkit!=3.0.0,!=3.0.1,<3.1.0,>=2.0.0 in /usr/local/lib/python3.10/dist-packages (from ipython==7.34.0->google.colab) (3.0.47)\n",
            "Requirement already satisfied: pygments in /usr/local/lib/python3.10/dist-packages (from ipython==7.34.0->google.colab) (2.16.1)\n",
            "Requirement already satisfied: backcall in /usr/local/lib/python3.10/dist-packages (from ipython==7.34.0->google.colab) (0.2.0)\n",
            "Requirement already satisfied: matplotlib-inline in /usr/local/lib/python3.10/dist-packages (from ipython==7.34.0->google.colab) (0.1.7)\n",
            "Requirement already satisfied: pexpect>4.3 in /usr/local/lib/python3.10/dist-packages (from ipython==7.34.0->google.colab) (4.9.0)\n",
            "Requirement already satisfied: jinja2 in /usr/local/lib/python3.10/dist-packages (from notebook==6.5.5->google.colab) (3.1.4)\n",
            "Requirement already satisfied: argon2-cffi in /usr/local/lib/python3.10/dist-packages (from notebook==6.5.5->google.colab) (23.1.0)\n",
            "Requirement already satisfied: jupyter-core>=4.6.1 in /usr/local/lib/python3.10/dist-packages (from notebook==6.5.5->google.colab) (5.7.2)\n",
            "Requirement already satisfied: nbformat in /usr/local/lib/python3.10/dist-packages (from notebook==6.5.5->google.colab) (5.10.4)\n",
            "Requirement already satisfied: nbconvert>=5 in /usr/local/lib/python3.10/dist-packages (from notebook==6.5.5->google.colab) (6.5.4)\n",
            "Requirement already satisfied: nest-asyncio>=1.5 in /usr/local/lib/python3.10/dist-packages (from notebook==6.5.5->google.colab) (1.6.0)\n",
            "Requirement already satisfied: Send2Trash>=1.8.0 in /usr/local/lib/python3.10/dist-packages (from notebook==6.5.5->google.colab) (1.8.3)\n",
            "Requirement already satisfied: terminado>=0.8.3 in /usr/local/lib/python3.10/dist-packages (from notebook==6.5.5->google.colab) (0.18.1)\n",
            "Requirement already satisfied: prometheus-client in /usr/local/lib/python3.10/dist-packages (from notebook==6.5.5->google.colab) (0.20.0)\n",
            "Requirement already satisfied: nbclassic>=0.4.7 in /usr/local/lib/python3.10/dist-packages (from notebook==6.5.5->google.colab) (1.1.0)\n",
            "Requirement already satisfied: pytz>=2020.1 in /usr/local/lib/python3.10/dist-packages (from pandas==2.0.3->google.colab) (2023.4)\n",
            "Requirement already satisfied: tzdata>=2022.1 in /usr/local/lib/python3.10/dist-packages (from pandas==2.0.3->google.colab) (2024.1)\n",
            "Requirement already satisfied: numpy>=1.21.0 in /usr/local/lib/python3.10/dist-packages (from pandas==2.0.3->google.colab) (1.25.2)\n",
            "Requirement already satisfied: charset-normalizer<4,>=2 in /usr/local/lib/python3.10/dist-packages (from requests==2.31.0->google.colab) (3.3.2)\n",
            "Requirement already satisfied: idna<4,>=2.5 in /usr/local/lib/python3.10/dist-packages (from requests==2.31.0->google.colab) (3.7)\n",
            "Requirement already satisfied: urllib3<3,>=1.21.1 in /usr/local/lib/python3.10/dist-packages (from requests==2.31.0->google.colab) (2.0.7)\n",
            "Requirement already satisfied: certifi>=2017.4.17 in /usr/local/lib/python3.10/dist-packages (from requests==2.31.0->google.colab) (2024.7.4)\n",
            "Requirement already satisfied: parso<0.9.0,>=0.8.3 in /usr/local/lib/python3.10/dist-packages (from jedi>=0.16->ipython==7.34.0->google.colab) (0.8.4)\n",
            "Requirement already satisfied: platformdirs>=2.5 in /usr/local/lib/python3.10/dist-packages (from jupyter-core>=4.6.1->notebook==6.5.5->google.colab) (4.2.2)\n",
            "Requirement already satisfied: notebook-shim>=0.2.3 in /usr/local/lib/python3.10/dist-packages (from nbclassic>=0.4.7->notebook==6.5.5->google.colab) (0.2.4)\n",
            "Requirement already satisfied: lxml in /usr/local/lib/python3.10/dist-packages (from nbconvert>=5->notebook==6.5.5->google.colab) (4.9.4)\n",
            "Requirement already satisfied: beautifulsoup4 in /usr/local/lib/python3.10/dist-packages (from nbconvert>=5->notebook==6.5.5->google.colab) (4.12.3)\n",
            "Requirement already satisfied: bleach in /usr/local/lib/python3.10/dist-packages (from nbconvert>=5->notebook==6.5.5->google.colab) (6.1.0)\n",
            "Requirement already satisfied: defusedxml in /usr/local/lib/python3.10/dist-packages (from nbconvert>=5->notebook==6.5.5->google.colab) (0.7.1)\n",
            "Requirement already satisfied: jupyterlab-pygments in /usr/local/lib/python3.10/dist-packages (from nbconvert>=5->notebook==6.5.5->google.colab) (0.3.0)\n",
            "Requirement already satisfied: MarkupSafe>=2.0 in /usr/local/lib/python3.10/dist-packages (from nbconvert>=5->notebook==6.5.5->google.colab) (2.1.5)\n",
            "Requirement already satisfied: mistune<2,>=0.8.1 in /usr/local/lib/python3.10/dist-packages (from nbconvert>=5->notebook==6.5.5->google.colab) (0.8.4)\n",
            "Requirement already satisfied: nbclient>=0.5.0 in /usr/local/lib/python3.10/dist-packages (from nbconvert>=5->notebook==6.5.5->google.colab) (0.10.0)\n",
            "Requirement already satisfied: packaging in /usr/local/lib/python3.10/dist-packages (from nbconvert>=5->notebook==6.5.5->google.colab) (24.1)\n",
            "Requirement already satisfied: pandocfilters>=1.4.1 in /usr/local/lib/python3.10/dist-packages (from nbconvert>=5->notebook==6.5.5->google.colab) (1.5.1)\n",
            "Requirement already satisfied: tinycss2 in /usr/local/lib/python3.10/dist-packages (from nbconvert>=5->notebook==6.5.5->google.colab) (1.3.0)\n",
            "Requirement already satisfied: fastjsonschema>=2.15 in /usr/local/lib/python3.10/dist-packages (from nbformat->notebook==6.5.5->google.colab) (2.20.0)\n",
            "Requirement already satisfied: jsonschema>=2.6 in /usr/local/lib/python3.10/dist-packages (from nbformat->notebook==6.5.5->google.colab) (4.19.2)\n",
            "Requirement already satisfied: ptyprocess>=0.5 in /usr/local/lib/python3.10/dist-packages (from pexpect>4.3->ipython==7.34.0->google.colab) (0.7.0)\n",
            "Requirement already satisfied: wcwidth in /usr/local/lib/python3.10/dist-packages (from prompt-toolkit!=3.0.0,!=3.0.1,<3.1.0,>=2.0.0->ipython==7.34.0->google.colab) (0.2.13)\n",
            "Requirement already satisfied: pyasn1<0.7.0,>=0.4.6 in /usr/local/lib/python3.10/dist-packages (from pyasn1-modules>=0.2.1->google-auth==2.27.0->google.colab) (0.6.0)\n",
            "Requirement already satisfied: six>=1.5 in /usr/local/lib/python3.10/dist-packages (from python-dateutil>=2.1->ipyparallel==8.8.0->google.colab) (1.16.0)\n",
            "Requirement already satisfied: argon2-cffi-bindings in /usr/local/lib/python3.10/dist-packages (from argon2-cffi->notebook==6.5.5->google.colab) (21.2.0)\n",
            "Requirement already satisfied: attrs>=22.2.0 in /usr/local/lib/python3.10/dist-packages (from jsonschema>=2.6->nbformat->notebook==6.5.5->google.colab) (23.2.0)\n",
            "Requirement already satisfied: jsonschema-specifications>=2023.03.6 in /usr/local/lib/python3.10/dist-packages (from jsonschema>=2.6->nbformat->notebook==6.5.5->google.colab) (2023.12.1)\n",
            "Requirement already satisfied: referencing>=0.28.4 in /usr/local/lib/python3.10/dist-packages (from jsonschema>=2.6->nbformat->notebook==6.5.5->google.colab) (0.35.1)\n",
            "Requirement already satisfied: rpds-py>=0.7.1 in /usr/local/lib/python3.10/dist-packages (from jsonschema>=2.6->nbformat->notebook==6.5.5->google.colab) (0.19.0)\n",
            "Requirement already satisfied: jupyter-server<3,>=1.8 in /usr/local/lib/python3.10/dist-packages (from notebook-shim>=0.2.3->nbclassic>=0.4.7->notebook==6.5.5->google.colab) (1.24.0)\n",
            "Requirement already satisfied: cffi>=1.0.1 in /usr/local/lib/python3.10/dist-packages (from argon2-cffi-bindings->argon2-cffi->notebook==6.5.5->google.colab) (1.16.0)\n",
            "Requirement already satisfied: soupsieve>1.2 in /usr/local/lib/python3.10/dist-packages (from beautifulsoup4->nbconvert>=5->notebook==6.5.5->google.colab) (2.5)\n",
            "Requirement already satisfied: webencodings in /usr/local/lib/python3.10/dist-packages (from bleach->nbconvert>=5->notebook==6.5.5->google.colab) (0.5.1)\n",
            "Requirement already satisfied: pycparser in /usr/local/lib/python3.10/dist-packages (from cffi>=1.0.1->argon2-cffi-bindings->argon2-cffi->notebook==6.5.5->google.colab) (2.22)\n",
            "Requirement already satisfied: anyio<4,>=3.1.0 in /usr/local/lib/python3.10/dist-packages (from jupyter-server<3,>=1.8->notebook-shim>=0.2.3->nbclassic>=0.4.7->notebook==6.5.5->google.colab) (3.7.1)\n",
            "Requirement already satisfied: websocket-client in /usr/local/lib/python3.10/dist-packages (from jupyter-server<3,>=1.8->notebook-shim>=0.2.3->nbclassic>=0.4.7->notebook==6.5.5->google.colab) (1.8.0)\n",
            "Requirement already satisfied: sniffio>=1.1 in /usr/local/lib/python3.10/dist-packages (from anyio<4,>=3.1.0->jupyter-server<3,>=1.8->notebook-shim>=0.2.3->nbclassic>=0.4.7->notebook==6.5.5->google.colab) (1.3.1)\n",
            "Requirement already satisfied: exceptiongroup in /usr/local/lib/python3.10/dist-packages (from anyio<4,>=3.1.0->jupyter-server<3,>=1.8->notebook-shim>=0.2.3->nbclassic>=0.4.7->notebook==6.5.5->google.colab) (1.2.2)\n",
            "Downloading jedi-0.19.1-py2.py3-none-any.whl (1.6 MB)\n",
            "\u001b[2K   \u001b[90m━━━━━━━━━━━━━━━━━━━━━━━━━━━━━━━━━━━━━━━━\u001b[0m \u001b[32m1.6/1.6 MB\u001b[0m \u001b[31m18.0 MB/s\u001b[0m eta \u001b[36m0:00:00\u001b[0m\n",
            "\u001b[?25hInstalling collected packages: jedi\n",
            "Successfully installed jedi-0.19.1\n"
          ]
        }
      ],
      "source": [
        "pip install google.colab"
      ]
    },
    {
      "cell_type": "code",
      "execution_count": 178,
      "id": "8a0abb31",
      "metadata": {
        "id": "8a0abb31",
        "papermill": {
          "duration": null,
          "end_time": null,
          "exception": null,
          "start_time": null,
          "status": "pending"
        },
        "tags": []
      },
      "outputs": [],
      "source": [
        "from IPython.display import HTML, Audio\n",
        "from google.colab.output import eval_js\n",
        "from base64 import b64decode\n",
        "from pydub import AudioSegment\n",
        "from pydub.playback import play\n",
        "import time\n",
        "import io\n",
        "from pydub import AudioSegment\n",
        "from pydub.playback import play\n",
        "import ffmpeg\n",
        "import numpy as np\n",
        "from scipy.io.wavfile import read as wav_read\n",
        "\n",
        "\n",
        "\n",
        "\n"
      ]
    },
    {
      "cell_type": "code",
      "execution_count": 179,
      "id": "5e3b312f",
      "metadata": {
        "id": "5e3b312f"
      },
      "outputs": [],
      "source": [
        "AUDIO_HTML = \"\"\"\n",
        "<script>\n",
        "var my_div = document.createElement(\"DIV\");\n",
        "var my_p = document.createElement(\"P\");\n",
        "var my_btn = document.createElement(\"BUTTON\");\n",
        "var t = document.createTextNode(\"Press to start recording\");\n",
        "\n",
        "my_btn.appendChild(t);\n",
        "my_div.appendChild(my_btn);\n",
        "document.body.appendChild(my_div);\n",
        "\n",
        "var base64data = 0;\n",
        "var reader;\n",
        "var recorder, gumStream;\n",
        "var recordButton = my_btn;\n",
        "\n",
        "var handleSuccess = function(stream) {\n",
        "  gumStream = stream;\n",
        "  var options = {\n",
        "    mimeType : 'audio/webm;codecs=opus'\n",
        "  };\n",
        "  recorder = new MediaRecorder(stream);\n",
        "  recorder.ondataavailable = function(e) {\n",
        "    var url = URL.createObjectURL(e.data);\n",
        "    var preview = document.createElement('audio');\n",
        "    preview.controls = true;\n",
        "    preview.src = url;\n",
        "    document.body.appendChild(preview);\n",
        "\n",
        "    reader = new FileReader();\n",
        "    reader.readAsDataURL(e.data);\n",
        "    reader.onloadend = function() {\n",
        "      base64data = reader.result;\n",
        "    }\n",
        "  };\n",
        "  recorder.start();\n",
        "};\n",
        "\n",
        "recordButton.innerText = \"Recording... press to stop\";\n",
        "\n",
        "navigator.mediaDevices.getUserMedia({audio: true}).then(handleSuccess);\n",
        "\n",
        "function toggleRecording() {\n",
        "  if (recorder && recorder.state == \"recording\") {\n",
        "      recorder.stop();\n",
        "      gumStream.getAudioTracks()[0].stop();\n",
        "      recordButton.innerText = \"Saving the recording... pls wait!\"\n",
        "  }\n",
        "}\n",
        "\n",
        "function sleep(ms) {\n",
        "  return new Promise(resolve => setTimeout(resolve, ms));\n",
        "}\n",
        "\n",
        "var data = new Promise(resolve=>{\n",
        "recordButton.onclick = ()=>{\n",
        "toggleRecording()\n",
        "\n",
        "sleep(2000).then(() => {\n",
        "  resolve(base64data.toString())\n",
        "});\n",
        "}\n",
        "});\n",
        "\n",
        "</script>\n",
        "\"\"\""
      ]
    },
    {
      "cell_type": "markdown",
      "id": "98943e5b",
      "metadata": {
        "id": "98943e5b",
        "papermill": {
          "duration": null,
          "end_time": null,
          "exception": null,
          "start_time": null,
          "status": "pending"
        },
        "tags": []
      },
      "source": [
        "# Voice to Voice"
      ]
    },
    {
      "cell_type": "code",
      "execution_count": 179,
      "id": "3125fe30",
      "metadata": {
        "id": "3125fe30"
      },
      "outputs": [],
      "source": []
    },
    {
      "cell_type": "code",
      "execution_count": 219,
      "id": "d5e547ae",
      "metadata": {
        "id": "d5e547ae",
        "outputId": "13abe890-3422-48e8-8013-84fb11801a97",
        "papermill": {
          "duration": null,
          "end_time": null,
          "exception": null,
          "start_time": null,
          "status": "pending"
        },
        "tags": [],
        "colab": {
          "base_uri": "https://localhost:8080/",
          "height": 114
        }
      },
      "outputs": [
        {
          "output_type": "display_data",
          "data": {
            "text/plain": [
              "<IPython.core.display.HTML object>"
            ],
            "text/html": [
              "\n",
              "<script>\n",
              "var my_div = document.createElement(\"DIV\");\n",
              "var my_p = document.createElement(\"P\");\n",
              "var my_btn = document.createElement(\"BUTTON\");\n",
              "var t = document.createTextNode(\"Press to start recording\");\n",
              "\n",
              "my_btn.appendChild(t);\n",
              "my_div.appendChild(my_btn);\n",
              "document.body.appendChild(my_div);\n",
              "\n",
              "var base64data = 0;\n",
              "var reader;\n",
              "var recorder, gumStream;\n",
              "var recordButton = my_btn;\n",
              "\n",
              "var handleSuccess = function(stream) {\n",
              "  gumStream = stream;\n",
              "  var options = {\n",
              "    mimeType : 'audio/webm;codecs=opus'\n",
              "  };\n",
              "  recorder = new MediaRecorder(stream);\n",
              "  recorder.ondataavailable = function(e) {\n",
              "    var url = URL.createObjectURL(e.data);\n",
              "    var preview = document.createElement('audio');\n",
              "    preview.controls = true;\n",
              "    preview.src = url;\n",
              "    document.body.appendChild(preview);\n",
              "\n",
              "    reader = new FileReader();\n",
              "    reader.readAsDataURL(e.data);\n",
              "    reader.onloadend = function() {\n",
              "      base64data = reader.result;\n",
              "    }\n",
              "  };\n",
              "  recorder.start();\n",
              "};\n",
              "\n",
              "recordButton.innerText = \"Recording... press to stop\";\n",
              "\n",
              "navigator.mediaDevices.getUserMedia({audio: true}).then(handleSuccess);\n",
              "\n",
              "function toggleRecording() {\n",
              "  if (recorder && recorder.state == \"recording\") {\n",
              "      recorder.stop();\n",
              "      gumStream.getAudioTracks()[0].stop();\n",
              "      recordButton.innerText = \"Saving the recording... pls wait!\"\n",
              "  }\n",
              "}\n",
              "\n",
              "function sleep(ms) {\n",
              "  return new Promise(resolve => setTimeout(resolve, ms));\n",
              "}\n",
              "\n",
              "var data = new Promise(resolve=>{\n",
              "recordButton.onclick = ()=>{\n",
              "toggleRecording()\n",
              "\n",
              "sleep(2000).then(() => {\n",
              "  resolve(base64data.toString())\n",
              "});\n",
              "}\n",
              "});\n",
              "\n",
              "</script>\n"
            ]
          },
          "metadata": {}
        },
        {
          "output_type": "stream",
          "name": "stdout",
          "text": [
            "Error: cannot use a string pattern on a bytes-like object\n"
          ]
        }
      ],
      "source": [
        "\n",
        "def get_audio():\n",
        "    display(HTML(AUDIO_HTML))\n",
        "    data = eval_js(\"data\")\n",
        "\n",
        "    if not data:\n",
        "        return None, None\n",
        "\n",
        "    binary = b64decode(data.split(',')[1])\n",
        "\n",
        "    # Convert audio data to pydub AudioSegment\n",
        "    audio_segment = AudioSegment.from_file(io.BytesIO(binary), format=\"webm\")\n",
        "\n",
        "    # Convert to mono channel\n",
        "    audio_segment = audio_segment.set_channels(1)\n",
        "\n",
        "    # Convert to 16-bit PCM format\n",
        "    audio_segment = audio_segment.set_sample_width(2)\n",
        "\n",
        "    # Convert to 16 kHz sample rate\n",
        "    audio_segment = audio_segment.set_frame_rate(16000)\n",
        "\n",
        "    # Save the processed audio to a file\n",
        "    audio_segment.export(\"audio.wav\", format=\"wav\")\n",
        "\n",
        "    # Read the processed audio file\n",
        "    sr, audio = wav_read(\"audio.wav\")\n",
        "\n",
        "    return audio, sr\n",
        "\n",
        "start = True\n",
        "while start:\n",
        "    query_audio, _ = get_audio()\n",
        "\n",
        "    if query_audio is not None:\n",
        "        try:\n",
        "            res = chatbot_response(query_audio)\n",
        "            print(res)\n",
        "\n",
        "            # Convert the response to speech\n",
        "            tts = gTTS(text=res, lang='en')\n",
        "            tts.save(\"response.mp3\")\n",
        "\n",
        "            # Play the response\n",
        "            display(Audio(filename=\"response.mp3\", autoplay=True))\n",
        "\n",
        "        except Exception as e:\n",
        "            print(f'Error: {e}')\n",
        "\n",
        "    # Add a delay after processing to prevent continuous recording\n",
        "    time.sleep(5)  # You can adjust the delay as needed\n",
        "    start = False  # Stop the recording loop after the first iteration"
      ]
    },
    {
      "cell_type": "code",
      "execution_count": 220,
      "id": "fc6ffe24",
      "metadata": {
        "id": "fc6ffe24",
        "outputId": "f107e0a7-4761-4b8b-ef4b-afb98d51e870",
        "papermill": {
          "duration": null,
          "end_time": null,
          "exception": null,
          "start_time": null,
          "status": "pending"
        },
        "tags": [],
        "colab": {
          "base_uri": "https://localhost:8080/"
        }
      },
      "outputs": [
        {
          "output_type": "stream",
          "name": "stdout",
          "text": [
            "Could not understand audio.\n"
          ]
        }
      ],
      "source": [
        "import speech_recognition as sr\n",
        "from gtts import gTTS\n",
        "from IPython.display import Audio, display\n",
        "\n",
        "def speech_to_text(audio_file):\n",
        "    recognizer = sr.Recognizer()\n",
        "\n",
        "    with sr.AudioFile(audio_file) as source:\n",
        "        audio = recognizer.record(source)\n",
        "\n",
        "    try:\n",
        "        text = recognizer.recognize_google(audio)\n",
        "        return text\n",
        "    except sr.UnknownValueError:\n",
        "        print(\"Could not understand audio.\")\n",
        "        return None\n",
        "    except sr.RequestError as e:\n",
        "        print(f\"Error connecting to Google API: {e}\")\n",
        "        return None\n",
        "\n",
        "# Get the text from \"audio.wav\"\n",
        "audio_text = speech_to_text(\"audio.wav\")\n",
        "\n",
        "# Ask the bot using the detected text\n",
        "if audio_text:\n",
        "    try:\n",
        "        res = chatbot_response(audio_text)\n",
        "        print(res)\n",
        "\n",
        "        # Convert the response to speech\n",
        "        tts = gTTS(text=res, lang='en')\n",
        "        tts.save(\"response.mp3\")\n",
        "\n",
        "        # Play the response\n",
        "        display(Audio(filename=\"response.mp3\", autoplay=True))\n",
        "\n",
        "    except Exception as e:\n",
        "        print(f'Error: {e}')\n"
      ]
    },
    {
      "cell_type": "code",
      "execution_count": 185,
      "id": "7f20b058",
      "metadata": {
        "id": "7f20b058",
        "papermill": {
          "duration": null,
          "end_time": null,
          "exception": null,
          "start_time": null,
          "status": "pending"
        },
        "tags": [],
        "colab": {
          "base_uri": "https://localhost:8080/"
        },
        "outputId": "a6bc420d-07a6-4633-9a07-05c710e65eea"
      },
      "outputs": [
        {
          "output_type": "stream",
          "name": "stdout",
          "text": [
            "Requirement already satisfied: pydub in /usr/local/lib/python3.10/dist-packages (0.25.1)\n",
            "Requirement already satisfied: numpy in /usr/local/lib/python3.10/dist-packages (1.25.2)\n",
            "Requirement already satisfied: scipy in /usr/local/lib/python3.10/dist-packages (1.11.4)\n",
            "Requirement already satisfied: sounddevice in /usr/local/lib/python3.10/dist-packages (0.4.7)\n",
            "Collecting wavio\n",
            "  Downloading wavio-0.0.9-py3-none-any.whl.metadata (5.7 kB)\n",
            "Requirement already satisfied: gtts in /usr/local/lib/python3.10/dist-packages (2.5.2)\n",
            "Requirement already satisfied: CFFI>=1.0 in /usr/local/lib/python3.10/dist-packages (from sounddevice) (1.16.0)\n",
            "Requirement already satisfied: requests<3,>=2.27 in /usr/local/lib/python3.10/dist-packages (from gtts) (2.31.0)\n",
            "Requirement already satisfied: click<8.2,>=7.1 in /usr/local/lib/python3.10/dist-packages (from gtts) (8.1.7)\n",
            "Requirement already satisfied: pycparser in /usr/local/lib/python3.10/dist-packages (from CFFI>=1.0->sounddevice) (2.22)\n",
            "Requirement already satisfied: charset-normalizer<4,>=2 in /usr/local/lib/python3.10/dist-packages (from requests<3,>=2.27->gtts) (3.3.2)\n",
            "Requirement already satisfied: idna<4,>=2.5 in /usr/local/lib/python3.10/dist-packages (from requests<3,>=2.27->gtts) (3.7)\n",
            "Requirement already satisfied: urllib3<3,>=1.21.1 in /usr/local/lib/python3.10/dist-packages (from requests<3,>=2.27->gtts) (2.0.7)\n",
            "Requirement already satisfied: certifi>=2017.4.17 in /usr/local/lib/python3.10/dist-packages (from requests<3,>=2.27->gtts) (2024.7.4)\n",
            "Downloading wavio-0.0.9-py3-none-any.whl (9.5 kB)\n",
            "Installing collected packages: wavio\n",
            "Successfully installed wavio-0.0.9\n"
          ]
        }
      ],
      "source": [
        "pip install pydub numpy scipy sounddevice wavio gtts\n"
      ]
    },
    {
      "cell_type": "code",
      "execution_count": 221,
      "id": "59f7bd16",
      "metadata": {
        "colab": {
          "base_uri": "https://localhost:8080/",
          "height": 389
        },
        "id": "59f7bd16",
        "outputId": "4e67af8b-96e8-4a88-e37d-0f3f2afd245e"
      },
      "outputs": [
        {
          "output_type": "stream",
          "name": "stdout",
          "text": [
            "Recording...\n"
          ]
        },
        {
          "output_type": "error",
          "ename": "PortAudioError",
          "evalue": "Error querying device -1",
          "traceback": [
            "\u001b[0;31m---------------------------------------------------------------------------\u001b[0m",
            "\u001b[0;31mPortAudioError\u001b[0m                            Traceback (most recent call last)",
            "\u001b[0;32m<ipython-input-221-0a8a7602d48a>\u001b[0m in \u001b[0;36m<cell line: 42>\u001b[0;34m()\u001b[0m\n\u001b[1;32m     41\u001b[0m \u001b[0mstart\u001b[0m \u001b[0;34m=\u001b[0m \u001b[0;32mTrue\u001b[0m\u001b[0;34m\u001b[0m\u001b[0;34m\u001b[0m\u001b[0m\n\u001b[1;32m     42\u001b[0m \u001b[0;32mwhile\u001b[0m \u001b[0mstart\u001b[0m\u001b[0;34m:\u001b[0m\u001b[0;34m\u001b[0m\u001b[0;34m\u001b[0m\u001b[0m\n\u001b[0;32m---> 43\u001b[0;31m     \u001b[0mquery_audio\u001b[0m\u001b[0;34m,\u001b[0m \u001b[0msr\u001b[0m \u001b[0;34m=\u001b[0m \u001b[0mget_audio\u001b[0m\u001b[0;34m(\u001b[0m\u001b[0;34m)\u001b[0m\u001b[0;34m\u001b[0m\u001b[0;34m\u001b[0m\u001b[0m\n\u001b[0m\u001b[1;32m     44\u001b[0m \u001b[0;34m\u001b[0m\u001b[0m\n\u001b[1;32m     45\u001b[0m     \u001b[0;32mif\u001b[0m \u001b[0mquery_audio\u001b[0m \u001b[0;32mis\u001b[0m \u001b[0;32mnot\u001b[0m \u001b[0;32mNone\u001b[0m\u001b[0;34m:\u001b[0m\u001b[0;34m\u001b[0m\u001b[0;34m\u001b[0m\u001b[0m\n",
            "\u001b[0;32m<ipython-input-221-0a8a7602d48a>\u001b[0m in \u001b[0;36mget_audio\u001b[0;34m()\u001b[0m\n\u001b[1;32m     24\u001b[0m     \u001b[0;31m# Record audio for 5 seconds\u001b[0m\u001b[0;34m\u001b[0m\u001b[0;34m\u001b[0m\u001b[0m\n\u001b[1;32m     25\u001b[0m     \u001b[0mduration\u001b[0m \u001b[0;34m=\u001b[0m \u001b[0;36m5\u001b[0m\u001b[0;34m\u001b[0m\u001b[0;34m\u001b[0m\u001b[0m\n\u001b[0;32m---> 26\u001b[0;31m     \u001b[0maudio\u001b[0m\u001b[0;34m,\u001b[0m \u001b[0msample_rate\u001b[0m \u001b[0;34m=\u001b[0m \u001b[0mrecord_audio\u001b[0m\u001b[0;34m(\u001b[0m\u001b[0mduration\u001b[0m\u001b[0;34m)\u001b[0m\u001b[0;34m\u001b[0m\u001b[0;34m\u001b[0m\u001b[0m\n\u001b[0m\u001b[1;32m     27\u001b[0m \u001b[0;34m\u001b[0m\u001b[0m\n\u001b[1;32m     28\u001b[0m     \u001b[0;31m# Save the recorded audio to a file\u001b[0m\u001b[0;34m\u001b[0m\u001b[0;34m\u001b[0m\u001b[0m\n",
            "\u001b[0;32m<ipython-input-221-0a8a7602d48a>\u001b[0m in \u001b[0;36mrecord_audio\u001b[0;34m(duration, sample_rate)\u001b[0m\n\u001b[1;32m     12\u001b[0m \u001b[0;32mdef\u001b[0m \u001b[0mrecord_audio\u001b[0m\u001b[0;34m(\u001b[0m\u001b[0mduration\u001b[0m\u001b[0;34m,\u001b[0m \u001b[0msample_rate\u001b[0m\u001b[0;34m=\u001b[0m\u001b[0;36m16000\u001b[0m\u001b[0;34m)\u001b[0m\u001b[0;34m:\u001b[0m\u001b[0;34m\u001b[0m\u001b[0;34m\u001b[0m\u001b[0m\n\u001b[1;32m     13\u001b[0m     \u001b[0mprint\u001b[0m\u001b[0;34m(\u001b[0m\u001b[0;34m\"Recording...\"\u001b[0m\u001b[0;34m)\u001b[0m\u001b[0;34m\u001b[0m\u001b[0;34m\u001b[0m\u001b[0m\n\u001b[0;32m---> 14\u001b[0;31m     \u001b[0maudio\u001b[0m \u001b[0;34m=\u001b[0m \u001b[0msd\u001b[0m\u001b[0;34m.\u001b[0m\u001b[0mrec\u001b[0m\u001b[0;34m(\u001b[0m\u001b[0mint\u001b[0m\u001b[0;34m(\u001b[0m\u001b[0mduration\u001b[0m \u001b[0;34m*\u001b[0m \u001b[0msample_rate\u001b[0m\u001b[0;34m)\u001b[0m\u001b[0;34m,\u001b[0m \u001b[0msamplerate\u001b[0m\u001b[0;34m=\u001b[0m\u001b[0msample_rate\u001b[0m\u001b[0;34m,\u001b[0m \u001b[0mchannels\u001b[0m\u001b[0;34m=\u001b[0m\u001b[0;36m1\u001b[0m\u001b[0;34m,\u001b[0m \u001b[0mdtype\u001b[0m\u001b[0;34m=\u001b[0m\u001b[0;34m'int16'\u001b[0m\u001b[0;34m)\u001b[0m\u001b[0;34m\u001b[0m\u001b[0;34m\u001b[0m\u001b[0m\n\u001b[0m\u001b[1;32m     15\u001b[0m     \u001b[0msd\u001b[0m\u001b[0;34m.\u001b[0m\u001b[0mwait\u001b[0m\u001b[0;34m(\u001b[0m\u001b[0;34m)\u001b[0m  \u001b[0;31m# Wait until recording is finished\u001b[0m\u001b[0;34m\u001b[0m\u001b[0;34m\u001b[0m\u001b[0m\n\u001b[1;32m     16\u001b[0m     \u001b[0mprint\u001b[0m\u001b[0;34m(\u001b[0m\u001b[0;34m\"Recording finished.\"\u001b[0m\u001b[0;34m)\u001b[0m\u001b[0;34m\u001b[0m\u001b[0;34m\u001b[0m\u001b[0m\n",
            "\u001b[0;32m/usr/local/lib/python3.10/dist-packages/sounddevice.py\u001b[0m in \u001b[0;36mrec\u001b[0;34m(frames, samplerate, channels, dtype, out, mapping, blocking, **kwargs)\u001b[0m\n\u001b[1;32m    274\u001b[0m         \u001b[0mctx\u001b[0m\u001b[0;34m.\u001b[0m\u001b[0mcallback_exit\u001b[0m\u001b[0;34m(\u001b[0m\u001b[0;34m)\u001b[0m\u001b[0;34m\u001b[0m\u001b[0;34m\u001b[0m\u001b[0m\n\u001b[1;32m    275\u001b[0m \u001b[0;34m\u001b[0m\u001b[0m\n\u001b[0;32m--> 276\u001b[0;31m     ctx.start_stream(InputStream, samplerate, ctx.input_channels,\n\u001b[0m\u001b[1;32m    277\u001b[0m                      ctx.input_dtype, callback, blocking, **kwargs)\n\u001b[1;32m    278\u001b[0m     \u001b[0;32mreturn\u001b[0m \u001b[0mout\u001b[0m\u001b[0;34m\u001b[0m\u001b[0;34m\u001b[0m\u001b[0m\n",
            "\u001b[0;32m/usr/local/lib/python3.10/dist-packages/sounddevice.py\u001b[0m in \u001b[0;36mstart_stream\u001b[0;34m(self, StreamClass, samplerate, channels, dtype, callback, blocking, **kwargs)\u001b[0m\n\u001b[1;32m   2603\u001b[0m                      blocking, **kwargs):\n\u001b[1;32m   2604\u001b[0m         \u001b[0mstop\u001b[0m\u001b[0;34m(\u001b[0m\u001b[0;34m)\u001b[0m  \u001b[0;31m# Stop previous playback/recording\u001b[0m\u001b[0;34m\u001b[0m\u001b[0;34m\u001b[0m\u001b[0m\n\u001b[0;32m-> 2605\u001b[0;31m         self.stream = StreamClass(samplerate=samplerate,\n\u001b[0m\u001b[1;32m   2606\u001b[0m                                   \u001b[0mchannels\u001b[0m\u001b[0;34m=\u001b[0m\u001b[0mchannels\u001b[0m\u001b[0;34m,\u001b[0m\u001b[0;34m\u001b[0m\u001b[0;34m\u001b[0m\u001b[0m\n\u001b[1;32m   2607\u001b[0m                                   \u001b[0mdtype\u001b[0m\u001b[0;34m=\u001b[0m\u001b[0mdtype\u001b[0m\u001b[0;34m,\u001b[0m\u001b[0;34m\u001b[0m\u001b[0;34m\u001b[0m\u001b[0m\n",
            "\u001b[0;32m/usr/local/lib/python3.10/dist-packages/sounddevice.py\u001b[0m in \u001b[0;36m__init__\u001b[0;34m(self, samplerate, blocksize, device, channels, dtype, latency, extra_settings, callback, finished_callback, clip_off, dither_off, never_drop_input, prime_output_buffers_using_stream_callback)\u001b[0m\n\u001b[1;32m   1427\u001b[0m \u001b[0;34m\u001b[0m\u001b[0m\n\u001b[1;32m   1428\u001b[0m         \"\"\"\n\u001b[0;32m-> 1429\u001b[0;31m         _StreamBase.__init__(self, kind='input', wrap_callback='array',\n\u001b[0m\u001b[1;32m   1430\u001b[0m                              **_remove_self(locals()))\n\u001b[1;32m   1431\u001b[0m \u001b[0;34m\u001b[0m\u001b[0m\n",
            "\u001b[0;32m/usr/local/lib/python3.10/dist-packages/sounddevice.py\u001b[0m in \u001b[0;36m__init__\u001b[0;34m(self, kind, samplerate, blocksize, device, channels, dtype, latency, extra_settings, callback, finished_callback, clip_off, dither_off, never_drop_input, prime_output_buffers_using_stream_callback, userdata, wrap_callback)\u001b[0m\n\u001b[1;32m    823\u001b[0m         \u001b[0;32melse\u001b[0m\u001b[0;34m:\u001b[0m\u001b[0;34m\u001b[0m\u001b[0;34m\u001b[0m\u001b[0m\n\u001b[1;32m    824\u001b[0m             \u001b[0mparameters\u001b[0m\u001b[0;34m,\u001b[0m \u001b[0mself\u001b[0m\u001b[0;34m.\u001b[0m\u001b[0m_dtype\u001b[0m\u001b[0;34m,\u001b[0m \u001b[0mself\u001b[0m\u001b[0;34m.\u001b[0m\u001b[0m_samplesize\u001b[0m\u001b[0;34m,\u001b[0m \u001b[0msamplerate\u001b[0m \u001b[0;34m=\u001b[0m\u001b[0;31m \u001b[0m\u001b[0;31m\\\u001b[0m\u001b[0;34m\u001b[0m\u001b[0;34m\u001b[0m\u001b[0m\n\u001b[0;32m--> 825\u001b[0;31m                 _get_stream_parameters(kind, device, channels, dtype, latency,\n\u001b[0m\u001b[1;32m    826\u001b[0m                                        extra_settings, samplerate)\n\u001b[1;32m    827\u001b[0m             \u001b[0mself\u001b[0m\u001b[0;34m.\u001b[0m\u001b[0m_device\u001b[0m \u001b[0;34m=\u001b[0m \u001b[0mparameters\u001b[0m\u001b[0;34m.\u001b[0m\u001b[0mdevice\u001b[0m\u001b[0;34m\u001b[0m\u001b[0;34m\u001b[0m\u001b[0m\n",
            "\u001b[0;32m/usr/local/lib/python3.10/dist-packages/sounddevice.py\u001b[0m in \u001b[0;36m_get_stream_parameters\u001b[0;34m(kind, device, channels, dtype, latency, extra_settings, samplerate)\u001b[0m\n\u001b[1;32m   2681\u001b[0m \u001b[0;34m\u001b[0m\u001b[0m\n\u001b[1;32m   2682\u001b[0m     \u001b[0mdevice\u001b[0m \u001b[0;34m=\u001b[0m \u001b[0m_get_device_id\u001b[0m\u001b[0;34m(\u001b[0m\u001b[0mdevice\u001b[0m\u001b[0;34m,\u001b[0m \u001b[0mkind\u001b[0m\u001b[0;34m,\u001b[0m \u001b[0mraise_on_error\u001b[0m\u001b[0;34m=\u001b[0m\u001b[0;32mTrue\u001b[0m\u001b[0;34m)\u001b[0m\u001b[0;34m\u001b[0m\u001b[0;34m\u001b[0m\u001b[0m\n\u001b[0;32m-> 2683\u001b[0;31m     \u001b[0minfo\u001b[0m \u001b[0;34m=\u001b[0m \u001b[0mquery_devices\u001b[0m\u001b[0;34m(\u001b[0m\u001b[0mdevice\u001b[0m\u001b[0;34m)\u001b[0m\u001b[0;34m\u001b[0m\u001b[0;34m\u001b[0m\u001b[0m\n\u001b[0m\u001b[1;32m   2684\u001b[0m     \u001b[0;32mif\u001b[0m \u001b[0mchannels\u001b[0m \u001b[0;32mis\u001b[0m \u001b[0;32mNone\u001b[0m\u001b[0;34m:\u001b[0m\u001b[0;34m\u001b[0m\u001b[0;34m\u001b[0m\u001b[0m\n\u001b[1;32m   2685\u001b[0m         \u001b[0mchannels\u001b[0m \u001b[0;34m=\u001b[0m \u001b[0minfo\u001b[0m\u001b[0;34m[\u001b[0m\u001b[0;34m'max_'\u001b[0m \u001b[0;34m+\u001b[0m \u001b[0mkind\u001b[0m \u001b[0;34m+\u001b[0m \u001b[0;34m'_channels'\u001b[0m\u001b[0;34m]\u001b[0m\u001b[0;34m\u001b[0m\u001b[0;34m\u001b[0m\u001b[0m\n",
            "\u001b[0;32m/usr/local/lib/python3.10/dist-packages/sounddevice.py\u001b[0m in \u001b[0;36mquery_devices\u001b[0;34m(device, kind)\u001b[0m\n\u001b[1;32m    567\u001b[0m     \u001b[0minfo\u001b[0m \u001b[0;34m=\u001b[0m \u001b[0m_lib\u001b[0m\u001b[0;34m.\u001b[0m\u001b[0mPa_GetDeviceInfo\u001b[0m\u001b[0;34m(\u001b[0m\u001b[0mdevice\u001b[0m\u001b[0;34m)\u001b[0m\u001b[0;34m\u001b[0m\u001b[0;34m\u001b[0m\u001b[0m\n\u001b[1;32m    568\u001b[0m     \u001b[0;32mif\u001b[0m \u001b[0;32mnot\u001b[0m \u001b[0minfo\u001b[0m\u001b[0;34m:\u001b[0m\u001b[0;34m\u001b[0m\u001b[0;34m\u001b[0m\u001b[0m\n\u001b[0;32m--> 569\u001b[0;31m         \u001b[0;32mraise\u001b[0m \u001b[0mPortAudioError\u001b[0m\u001b[0;34m(\u001b[0m\u001b[0;34mf'Error querying device {device}'\u001b[0m\u001b[0;34m)\u001b[0m\u001b[0;34m\u001b[0m\u001b[0;34m\u001b[0m\u001b[0m\n\u001b[0m\u001b[1;32m    570\u001b[0m     \u001b[0;32massert\u001b[0m \u001b[0minfo\u001b[0m\u001b[0;34m.\u001b[0m\u001b[0mstructVersion\u001b[0m \u001b[0;34m==\u001b[0m \u001b[0;36m2\u001b[0m\u001b[0;34m\u001b[0m\u001b[0;34m\u001b[0m\u001b[0m\n\u001b[1;32m    571\u001b[0m     \u001b[0mname_bytes\u001b[0m \u001b[0;34m=\u001b[0m \u001b[0m_ffi\u001b[0m\u001b[0;34m.\u001b[0m\u001b[0mstring\u001b[0m\u001b[0;34m(\u001b[0m\u001b[0minfo\u001b[0m\u001b[0;34m.\u001b[0m\u001b[0mname\u001b[0m\u001b[0;34m)\u001b[0m\u001b[0;34m\u001b[0m\u001b[0;34m\u001b[0m\u001b[0m\n",
            "\u001b[0;31mPortAudioError\u001b[0m: Error querying device -1"
          ]
        }
      ],
      "source": [
        "from IPython.display import Audio\n",
        "from base64 import b64decode\n",
        "from pydub import AudioSegment\n",
        "from pydub.playback import play\n",
        "import time\n",
        "import io\n",
        "import numpy as np\n",
        "from scipy.io.wavfile import read as wav_read\n",
        "import sounddevice as sd\n",
        "import wavio\n",
        "\n",
        "def record_audio(duration, sample_rate=16000):\n",
        "    print(\"Recording...\")\n",
        "    audio = sd.rec(int(duration * sample_rate), samplerate=sample_rate, channels=1, dtype='int16')\n",
        "    sd.wait()  # Wait until recording is finished\n",
        "    print(\"Recording finished.\")\n",
        "    return audio, sample_rate\n",
        "\n",
        "def save_audio(audio, sample_rate, filename=\"audio.wav\"):\n",
        "    wavio.write(filename, audio, sample_rate, sampwidth=2)\n",
        "    return filename\n",
        "\n",
        "def get_audio():\n",
        "    # Record audio for 5 seconds\n",
        "    duration = 5\n",
        "    audio, sample_rate = record_audio(duration)\n",
        "\n",
        "    # Save the recorded audio to a file\n",
        "    audio_file = save_audio(audio, sample_rate)\n",
        "\n",
        "    # Read the processed audio file\n",
        "    sr, audio_data = wav_read(audio_file)\n",
        "\n",
        "    return audio_data, sr\n",
        "\n",
        "def chatbot_response(audio):\n",
        "    # Dummy chatbot response function\n",
        "    # Replace this with your actual chatbot processing logic\n",
        "    return \"This is a test response.\"\n",
        "\n",
        "start = True\n",
        "while start:\n",
        "    query_audio, sr = get_audio()\n",
        "\n",
        "    if query_audio is not None:\n",
        "        try:\n",
        "            res = chatbot_response(query_audio)\n",
        "            print(res)\n",
        "\n",
        "            # Convert the response to speech\n",
        "            tts = gTTS(text=res, lang='en')\n",
        "            tts.save(\"response.mp3\")\n",
        "\n",
        "            # Play the response\n",
        "            display(Audio(filename=\"response.mp3\", autoplay=True))\n",
        "\n",
        "        except Exception as e:\n",
        "            print(f'Error: {e}')\n",
        "\n",
        "    # Add a delay after processing to prevent continuous recording\n",
        "    time.sleep(5)  # You can adjust the delay as needed\n",
        "    start = False  # Stop the recording loop after the first iteration\n"
      ]
    },
    {
      "cell_type": "code",
      "execution_count": null,
      "id": "6b545754",
      "metadata": {
        "id": "6b545754"
      },
      "outputs": [],
      "source": []
    }
  ],
  "metadata": {
    "colab": {
      "provenance": []
    },
    "kaggle": {
      "accelerator": "none",
      "dataSources": [
        {
          "datasetId": 4860743,
          "sourceId": 8204144,
          "sourceType": "datasetVersion"
        }
      ],
      "dockerImageVersionId": 30698,
      "isGpuEnabled": false,
      "isInternetEnabled": true,
      "language": "python",
      "sourceType": "notebook"
    },
    "kernelspec": {
      "display_name": "Python 3 (ipykernel)",
      "language": "python",
      "name": "python3"
    },
    "language_info": {
      "codemirror_mode": {
        "name": "ipython",
        "version": 3
      },
      "file_extension": ".py",
      "mimetype": "text/x-python",
      "name": "python",
      "nbconvert_exporter": "python",
      "pygments_lexer": "ipython3",
      "version": "3.11.5"
    },
    "papermill": {
      "default_parameters": {},
      "duration": 39.061192,
      "end_time": "2024-05-23T07:01:50.506137",
      "environment_variables": {},
      "exception": true,
      "input_path": "__notebook__.ipynb",
      "output_path": "__notebook__.ipynb",
      "parameters": {},
      "start_time": "2024-05-23T07:01:11.444945",
      "version": "2.3.4"
    }
  },
  "nbformat": 4,
  "nbformat_minor": 5
}